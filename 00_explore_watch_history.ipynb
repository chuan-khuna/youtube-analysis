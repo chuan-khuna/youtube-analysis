{
 "cells": [
  {
   "cell_type": "code",
   "execution_count": 1,
   "metadata": {
    "execution": {
     "iopub.execute_input": "2020-12-29T09:07:27.108724Z",
     "iopub.status.busy": "2020-12-29T09:07:27.107724Z",
     "iopub.status.idle": "2020-12-29T09:07:27.520680Z",
     "shell.execute_reply": "2020-12-29T09:07:27.520680Z",
     "shell.execute_reply.started": "2020-12-29T09:07:27.108724Z"
    }
   },
   "outputs": [],
   "source": [
    "import json\n",
    "import pandas as pd\n",
    "import numpy as np\n",
    "import os"
   ]
  },
  {
   "cell_type": "markdown",
   "metadata": {},
   "source": [
    "## list all dir"
   ]
  },
  {
   "cell_type": "code",
   "execution_count": 2,
   "metadata": {
    "execution": {
     "iopub.execute_input": "2020-12-29T09:07:27.522614Z",
     "iopub.status.busy": "2020-12-29T09:07:27.522614Z",
     "iopub.status.idle": "2020-12-29T09:07:27.539569Z",
     "shell.execute_reply": "2020-12-29T09:07:27.538570Z",
     "shell.execute_reply.started": "2020-12-29T09:07:27.522614Z"
    }
   },
   "outputs": [
    {
     "data": {
      "text/plain": [
       "['การติดตาม', 'ประวัติ', 'เพลงในคลังเพลง', 'เพลย์ลิสต์']"
      ]
     },
     "execution_count": 2,
     "metadata": {},
     "output_type": "execute_result"
    }
   ],
   "source": [
    "path = \"./data/Takeout/YouTube และ YouTube Music/\"\n",
    "sub_directories = os.listdir(path)\n",
    "sub_directories"
   ]
  },
  {
   "cell_type": "code",
   "execution_count": 3,
   "metadata": {
    "execution": {
     "iopub.execute_input": "2020-12-29T09:07:27.543561Z",
     "iopub.status.busy": "2020-12-29T09:07:27.542560Z",
     "iopub.status.idle": "2020-12-29T09:07:27.565499Z",
     "shell.execute_reply": "2020-12-29T09:07:27.564501Z",
     "shell.execute_reply.started": "2020-12-29T09:07:27.543561Z"
    }
   },
   "outputs": [
    {
     "name": "stdout",
     "output_type": "stream",
     "text": [
      "./data/Takeout/YouTube และ YouTube Music/การติดตาม/การติดตาม.json\n",
      "./data/Takeout/YouTube และ YouTube Music/ประวัติ/ประวัติการค้นหา.json\n",
      "./data/Takeout/YouTube และ YouTube Music/ประวัติ/ประวัติการดู.json\n",
      "./data/Takeout/YouTube และ YouTube Music/เพลงในคลังเพลง/เพลงในคลังเพลง.csv\n",
      "./data/Takeout/YouTube และ YouTube Music/เพลย์ลิสต์/2neral.csv\n",
      "./data/Takeout/YouTube และ YouTube Music/เพลย์ลิสต์/AL1ST.csv\n",
      "./data/Takeout/YouTube และ YouTube Music/เพลย์ลิสต์/AMV.csv\n",
      "./data/Takeout/YouTube และ YouTube Music/เพลย์ลิสต์/analysis anime.csv\n",
      "./data/Takeout/YouTube และ YouTube Music/เพลย์ลิสต์/Best cover.csv\n",
      "./data/Takeout/YouTube และ YouTube Music/เพลย์ลิสต์/Chill BGM.csv\n",
      "./data/Takeout/YouTube และ YouTube Music/เพลย์ลิสต์/Liked videos.csv\n",
      "./data/Takeout/YouTube และ YouTube Music/เพลย์ลิสต์/MHA-Movie-OST.csv\n",
      "./data/Takeout/YouTube และ YouTube Music/เพลย์ลิสต์/NCS - Off vocal.csv\n",
      "./data/Takeout/YouTube และ YouTube Music/เพลย์ลิสต์/OST.csv\n",
      "./data/Takeout/YouTube และ YouTube Music/เพลย์ลิสต์/PC build Timelapse.csv\n",
      "./data/Takeout/YouTube และ YouTube Music/เพลย์ลิสต์/Sawano off-vocal.csv\n",
      "./data/Takeout/YouTube และ YouTube Music/เพลย์ลิสต์/Sawano-Vocal.csv\n",
      "./data/Takeout/YouTube และ YouTube Music/เพลย์ลิสต์/song.csv\n",
      "./data/Takeout/YouTube และ YouTube Music/เพลย์ลิสต์/Table Tennis.csv\n",
      "./data/Takeout/YouTube และ YouTube Music/เพลย์ลิสต์/Uploads from Chuan Khuna.csv\n",
      "./data/Takeout/YouTube และ YouTube Music/เพลย์ลิสต์/Watch later.csv\n",
      "./data/Takeout/YouTube และ YouTube Music/เพลย์ลิสต์/Yuki Hayashi B-ATTLE.csv\n",
      "./data/Takeout/YouTube และ YouTube Music/เพลย์ลิสต์/YUKI HAYASHI.csv\n",
      "./data/Takeout/YouTube และ YouTube Music/เพลย์ลิสต์/∃nt_lassen.csv\n"
     ]
    }
   ],
   "source": [
    "for sub_dir in sub_directories:\n",
    "    full_dir = f\"{path}{sub_dir}\"\n",
    "    files = os.listdir(full_dir)\n",
    "    for file in files:\n",
    "        print(f\"{full_dir}/{file}\")"
   ]
  },
  {
   "cell_type": "markdown",
   "metadata": {},
   "source": [
    "# Explore Watch Histories"
   ]
  },
  {
   "cell_type": "code",
   "execution_count": 4,
   "metadata": {
    "execution": {
     "iopub.execute_input": "2020-12-29T09:07:27.567494Z",
     "iopub.status.busy": "2020-12-29T09:07:27.566496Z",
     "iopub.status.idle": "2020-12-29T09:07:27.662240Z",
     "shell.execute_reply": "2020-12-29T09:07:27.661252Z",
     "shell.execute_reply.started": "2020-12-29T09:07:27.567494Z"
    }
   },
   "outputs": [],
   "source": [
    "file = \"./data/Takeout/YouTube และ YouTube Music/ประวัติ/ประวัติการดู.json\"\n",
    "with open(file, encoding=\"utf-8\") as f:\n",
    "    json_data = json.load(f)"
   ]
  },
  {
   "cell_type": "code",
   "execution_count": 5,
   "metadata": {
    "execution": {
     "iopub.execute_input": "2020-12-29T09:07:27.663239Z",
     "iopub.status.busy": "2020-12-29T09:07:27.663239Z",
     "iopub.status.idle": "2020-12-29T09:07:27.681190Z",
     "shell.execute_reply": "2020-12-29T09:07:27.680192Z",
     "shell.execute_reply.started": "2020-12-29T09:07:27.663239Z"
    }
   },
   "outputs": [
    {
     "data": {
      "text/plain": [
       "[{'header': 'YouTube',\n",
       "  'title': 'ดู Hiroyuki Sawano / Project【emU】「Inferno＜×PT＞」',\n",
       "  'titleUrl': 'https://www.youtube.com/watch?v=c49zedQ1eNM',\n",
       "  'subtitles': [{'name': '澤野弘之 / SawanoHiroyuki[nZk]',\n",
       "    'url': 'https://www.youtube.com/channel/UCpT4syVopfBl2bATVfAt65g'}],\n",
       "  'time': '2020-12-28T13:57:19.737Z',\n",
       "  'products': ['YouTube']},\n",
       " {'header': 'YouTube',\n",
       "  'title': 'ดู เรียน Game Design กับ Genshin Impact',\n",
       "  'titleUrl': 'https://www.youtube.com/watch?v=3zIpwQQdBmY',\n",
       "  'subtitles': [{'name': '9arm',\n",
       "    'url': 'https://www.youtube.com/channel/UCoiEtD4v1qMAqHV5MDI5Qpg'}],\n",
       "  'time': '2020-12-27T13:26:49.854Z',\n",
       "  'products': ['YouTube']},\n",
       " {'header': 'YouTube',\n",
       "  'title': 'ดู LIVE - DayZ #2 - วิบากกรรมหาเพื่อนภาค2',\n",
       "  'titleUrl': 'https://www.youtube.com/watch?v=eosGmTJZZZ8',\n",
       "  'subtitles': [{'name': 'HEARTROCKER',\n",
       "    'url': 'https://www.youtube.com/channel/UC4plRabXFGdAE6HP-tBQKdQ'}],\n",
       "  'time': '2020-12-27T13:22:10.693Z',\n",
       "  'products': ['YouTube']}]"
      ]
     },
     "execution_count": 5,
     "metadata": {},
     "output_type": "execute_result"
    }
   ],
   "source": [
    "json_data[:3]"
   ]
  },
  {
   "cell_type": "markdown",
   "metadata": {},
   "source": [
    "## The Problems...\n",
    "\n",
    "- `subtitles` กับ `products`\n",
    "\n",
    "ถ้านำไปแปลงเป็น dataframe จะกลายเป็น object"
   ]
  },
  {
   "cell_type": "code",
   "execution_count": 6,
   "metadata": {
    "execution": {
     "iopub.execute_input": "2020-12-29T09:07:27.684181Z",
     "iopub.status.busy": "2020-12-29T09:07:27.683184Z",
     "iopub.status.idle": "2020-12-29T09:07:27.781926Z",
     "shell.execute_reply": "2020-12-29T09:07:27.781926Z",
     "shell.execute_reply.started": "2020-12-29T09:07:27.684181Z"
    }
   },
   "outputs": [],
   "source": [
    "df = pd.DataFrame(json_data)\n",
    "df.to_csv(\"./temp/histories.csv\", index=False)"
   ]
  },
  {
   "cell_type": "code",
   "execution_count": 7,
   "metadata": {
    "execution": {
     "iopub.execute_input": "2020-12-29T09:07:27.783914Z",
     "iopub.status.busy": "2020-12-29T09:07:27.782917Z",
     "iopub.status.idle": "2020-12-29T09:07:27.803861Z",
     "shell.execute_reply": "2020-12-29T09:07:27.802863Z",
     "shell.execute_reply.started": "2020-12-29T09:07:27.783914Z"
    }
   },
   "outputs": [
    {
     "name": "stdout",
     "output_type": "stream",
     "text": [
      "<class 'pandas.core.frame.DataFrame'>\n",
      "RangeIndex: 6566 entries, 0 to 6565\n",
      "Data columns (total 7 columns):\n",
      " #   Column       Non-Null Count  Dtype \n",
      "---  ------       --------------  ----- \n",
      " 0   header       6566 non-null   object\n",
      " 1   title        6566 non-null   object\n",
      " 2   titleUrl     6476 non-null   object\n",
      " 3   subtitles    5424 non-null   object\n",
      " 4   time         6566 non-null   object\n",
      " 5   products     6566 non-null   object\n",
      " 6   description  1 non-null      object\n",
      "dtypes: object(7)\n",
      "memory usage: 359.2+ KB\n"
     ]
    }
   ],
   "source": [
    "df.info()"
   ]
  },
  {
   "cell_type": "code",
   "execution_count": 8,
   "metadata": {
    "execution": {
     "iopub.execute_input": "2020-12-29T09:07:27.805855Z",
     "iopub.status.busy": "2020-12-29T09:07:27.805855Z",
     "iopub.status.idle": "2020-12-29T09:07:27.821814Z",
     "shell.execute_reply": "2020-12-29T09:07:27.820817Z",
     "shell.execute_reply.started": "2020-12-29T09:07:27.805855Z"
    }
   },
   "outputs": [
    {
     "data": {
      "text/plain": [
       "YouTube          6565\n",
       "YouTube Music       1\n",
       "Name: header, dtype: int64"
      ]
     },
     "execution_count": 8,
     "metadata": {},
     "output_type": "execute_result"
    }
   ],
   "source": [
    "df['header'].value_counts()"
   ]
  },
  {
   "cell_type": "markdown",
   "metadata": {},
   "source": [
    "### products & subtitles"
   ]
  },
  {
   "cell_type": "code",
   "execution_count": 9,
   "metadata": {
    "execution": {
     "iopub.execute_input": "2020-12-29T09:07:27.825803Z",
     "iopub.status.busy": "2020-12-29T09:07:27.825803Z",
     "iopub.status.idle": "2020-12-29T09:07:27.857717Z",
     "shell.execute_reply": "2020-12-29T09:07:27.856720Z",
     "shell.execute_reply.started": "2020-12-29T09:07:27.825803Z"
    }
   },
   "outputs": [
    {
     "data": {
      "text/html": [
       "<div>\n",
       "<style scoped>\n",
       "    .dataframe tbody tr th:only-of-type {\n",
       "        vertical-align: middle;\n",
       "    }\n",
       "\n",
       "    .dataframe tbody tr th {\n",
       "        vertical-align: top;\n",
       "    }\n",
       "\n",
       "    .dataframe thead th {\n",
       "        text-align: right;\n",
       "    }\n",
       "</style>\n",
       "<table border=\"1\" class=\"dataframe\">\n",
       "  <thead>\n",
       "    <tr style=\"text-align: right;\">\n",
       "      <th></th>\n",
       "      <th>header</th>\n",
       "      <th>title</th>\n",
       "      <th>titleUrl</th>\n",
       "      <th>subtitles</th>\n",
       "      <th>time</th>\n",
       "      <th>products</th>\n",
       "      <th>description</th>\n",
       "    </tr>\n",
       "  </thead>\n",
       "  <tbody>\n",
       "    <tr>\n",
       "      <th>0</th>\n",
       "      <td>YouTube</td>\n",
       "      <td>ดู Hiroyuki Sawano / Project【emU】「Inferno＜×PT＞」</td>\n",
       "      <td>https://www.youtube.com/watch?v=c49zedQ1eNM</td>\n",
       "      <td>[{'name': '澤野弘之 / SawanoHiroyuki[nZk]', 'url':...</td>\n",
       "      <td>2020-12-28T13:57:19.737Z</td>\n",
       "      <td>[YouTube]</td>\n",
       "      <td>NaN</td>\n",
       "    </tr>\n",
       "    <tr>\n",
       "      <th>1</th>\n",
       "      <td>YouTube</td>\n",
       "      <td>ดู เรียน Game Design กับ Genshin Impact</td>\n",
       "      <td>https://www.youtube.com/watch?v=3zIpwQQdBmY</td>\n",
       "      <td>[{'name': '9arm', 'url': 'https://www.youtube....</td>\n",
       "      <td>2020-12-27T13:26:49.854Z</td>\n",
       "      <td>[YouTube]</td>\n",
       "      <td>NaN</td>\n",
       "    </tr>\n",
       "    <tr>\n",
       "      <th>2</th>\n",
       "      <td>YouTube</td>\n",
       "      <td>ดู LIVE - DayZ #2 - วิบากกรรมหาเพื่อนภาค2</td>\n",
       "      <td>https://www.youtube.com/watch?v=eosGmTJZZZ8</td>\n",
       "      <td>[{'name': 'HEARTROCKER', 'url': 'https://www.y...</td>\n",
       "      <td>2020-12-27T13:22:10.693Z</td>\n",
       "      <td>[YouTube]</td>\n",
       "      <td>NaN</td>\n",
       "    </tr>\n",
       "    <tr>\n",
       "      <th>3</th>\n",
       "      <td>YouTube</td>\n",
       "      <td>ดู esport ในร่างกฏหมายและความชิบหายของงานวิจัย</td>\n",
       "      <td>https://www.youtube.com/watch?v=t1ZpJzlH6QE</td>\n",
       "      <td>[{'name': '9arm', 'url': 'https://www.youtube....</td>\n",
       "      <td>2020-12-27T13:15:59.318Z</td>\n",
       "      <td>[YouTube]</td>\n",
       "      <td>NaN</td>\n",
       "    </tr>\n",
       "    <tr>\n",
       "      <th>4</th>\n",
       "      <td>YouTube</td>\n",
       "      <td>ดู ปืนคู่หูหมีดูสูสีหูหมีหูหมู - FreeFire สไตล...</td>\n",
       "      <td>https://www.youtube.com/watch?v=CNo1z1MScbE</td>\n",
       "      <td>[{'name': 'HEARTROCKER', 'url': 'https://www.y...</td>\n",
       "      <td>2020-12-27T11:09:01.053Z</td>\n",
       "      <td>[YouTube]</td>\n",
       "      <td>NaN</td>\n",
       "    </tr>\n",
       "  </tbody>\n",
       "</table>\n",
       "</div>"
      ],
      "text/plain": [
       "    header                                              title  \\\n",
       "0  YouTube    ดู Hiroyuki Sawano / Project【emU】「Inferno＜×PT＞」   \n",
       "1  YouTube            ดู เรียน Game Design กับ Genshin Impact   \n",
       "2  YouTube          ดู LIVE - DayZ #2 - วิบากกรรมหาเพื่อนภาค2   \n",
       "3  YouTube     ดู esport ในร่างกฏหมายและความชิบหายของงานวิจัย   \n",
       "4  YouTube  ดู ปืนคู่หูหมีดูสูสีหูหมีหูหมู - FreeFire สไตล...   \n",
       "\n",
       "                                      titleUrl  \\\n",
       "0  https://www.youtube.com/watch?v=c49zedQ1eNM   \n",
       "1  https://www.youtube.com/watch?v=3zIpwQQdBmY   \n",
       "2  https://www.youtube.com/watch?v=eosGmTJZZZ8   \n",
       "3  https://www.youtube.com/watch?v=t1ZpJzlH6QE   \n",
       "4  https://www.youtube.com/watch?v=CNo1z1MScbE   \n",
       "\n",
       "                                           subtitles  \\\n",
       "0  [{'name': '澤野弘之 / SawanoHiroyuki[nZk]', 'url':...   \n",
       "1  [{'name': '9arm', 'url': 'https://www.youtube....   \n",
       "2  [{'name': 'HEARTROCKER', 'url': 'https://www.y...   \n",
       "3  [{'name': '9arm', 'url': 'https://www.youtube....   \n",
       "4  [{'name': 'HEARTROCKER', 'url': 'https://www.y...   \n",
       "\n",
       "                       time   products description  \n",
       "0  2020-12-28T13:57:19.737Z  [YouTube]         NaN  \n",
       "1  2020-12-27T13:26:49.854Z  [YouTube]         NaN  \n",
       "2  2020-12-27T13:22:10.693Z  [YouTube]         NaN  \n",
       "3  2020-12-27T13:15:59.318Z  [YouTube]         NaN  \n",
       "4  2020-12-27T11:09:01.053Z  [YouTube]         NaN  "
      ]
     },
     "execution_count": 9,
     "metadata": {},
     "output_type": "execute_result"
    }
   ],
   "source": [
    "df.head()"
   ]
  },
  {
   "cell_type": "code",
   "execution_count": 10,
   "metadata": {
    "execution": {
     "iopub.execute_input": "2020-12-29T09:07:27.860709Z",
     "iopub.status.busy": "2020-12-29T09:07:27.859713Z",
     "iopub.status.idle": "2020-12-29T09:07:27.879658Z",
     "shell.execute_reply": "2020-12-29T09:07:27.877666Z",
     "shell.execute_reply.started": "2020-12-29T09:07:27.860709Z"
    }
   },
   "outputs": [
    {
     "data": {
      "text/plain": [
       "[YouTube]    6566\n",
       "Name: products, dtype: int64"
      ]
     },
     "execution_count": 10,
     "metadata": {},
     "output_type": "execute_result"
    }
   ],
   "source": [
    "df['products'].value_counts()"
   ]
  },
  {
   "cell_type": "code",
   "execution_count": 11,
   "metadata": {
    "execution": {
     "iopub.execute_input": "2020-12-29T09:07:27.883648Z",
     "iopub.status.busy": "2020-12-29T09:07:27.881653Z",
     "iopub.status.idle": "2020-12-29T09:07:28.004325Z",
     "shell.execute_reply": "2020-12-29T09:07:28.003327Z",
     "shell.execute_reply.started": "2020-12-29T09:07:27.883648Z"
    }
   },
   "outputs": [
    {
     "data": {
      "text/plain": [
       "[{'name': 'HEARTROCKER', 'url': 'https://www.youtube.com/channel/UC4plRabXFGdAE6HP-tBQKdQ'}]                   497\n",
       "[{'name': 'Max Galactica', 'url': 'https://www.youtube.com/channel/UCVlccgb8OMMUQPghZhRZtwg'}]                 450\n",
       "[{'name': 'Hiroyuki Sawano - Topic', 'url': 'https://www.youtube.com/channel/UCy3Lx1fNl4XnxleZBJK_PXw'}]       444\n",
       "[{'name': 'ชุดนอน ขอรบกวนทั้งชุดนอน', 'url': 'https://www.youtube.com/channel/UCeb92QzSg2YfXyllnkZQGIw'}]      292\n",
       "[{'name': '澤野弘之 / SawanoHiroyuki[nZk]', 'url': 'https://www.youtube.com/channel/UCbJM_Y06iuUOl3hVPqYcvng'}]    252\n",
       "                                                                                                              ... \n",
       "[{'name': 'sanzy', 'url': 'https://www.youtube.com/channel/UC4hAgzoKD1mDEWNJkKU9h8g'}]                           1\n",
       "[{'name': 'AlphaWolfPaw', 'url': 'https://www.youtube.com/channel/UC2O9M2wG5sNYFsp5WesTSHw'}]                    1\n",
       "[{'name': 'よさく', 'url': 'https://www.youtube.com/channel/UCaxax6mkuVRNuTlmduG1vNA'}]                             1\n",
       "[{'name': '野坂ひかり', 'url': 'https://www.youtube.com/channel/UCbsrv2lr0aMkprST91DNeWw'}]                           1\n",
       "[{'name': 'Voccaloider', 'url': 'https://www.youtube.com/channel/UCGg208AEbNElZOMSOa9DgBg'}]                     1\n",
       "Name: subtitles, Length: 686, dtype: int64"
      ]
     },
     "execution_count": 11,
     "metadata": {},
     "output_type": "execute_result"
    }
   ],
   "source": [
    "df['subtitles'].value_counts()"
   ]
  },
  {
   "cell_type": "markdown",
   "metadata": {},
   "source": [
    "### Another Problem ... with deleted video and title is Url-format\n",
    "\n",
    "- delete `deleted video` row\n",
    "- `url-format` ?"
   ]
  },
  {
   "cell_type": "code",
   "execution_count": 12,
   "metadata": {
    "execution": {
     "iopub.execute_input": "2020-12-29T09:07:28.005322Z",
     "iopub.status.busy": "2020-12-29T09:07:28.005322Z",
     "iopub.status.idle": "2020-12-29T09:07:28.033248Z",
     "shell.execute_reply": "2020-12-29T09:07:28.032250Z",
     "shell.execute_reply.started": "2020-12-29T09:07:28.005322Z"
    }
   },
   "outputs": [],
   "source": [
    "most_viewed = df.groupby(by=['title']).count().reset_index().sort_values(by=['time'], ascending=False)"
   ]
  },
  {
   "cell_type": "code",
   "execution_count": 13,
   "metadata": {
    "execution": {
     "iopub.execute_input": "2020-12-29T09:07:28.035242Z",
     "iopub.status.busy": "2020-12-29T09:07:28.034244Z",
     "iopub.status.idle": "2020-12-29T09:07:28.059178Z",
     "shell.execute_reply": "2020-12-29T09:07:28.058181Z",
     "shell.execute_reply.started": "2020-12-29T09:07:28.035242Z"
    }
   },
   "outputs": [
    {
     "data": {
      "text/html": [
       "<div>\n",
       "<style scoped>\n",
       "    .dataframe tbody tr th:only-of-type {\n",
       "        vertical-align: middle;\n",
       "    }\n",
       "\n",
       "    .dataframe tbody tr th {\n",
       "        vertical-align: top;\n",
       "    }\n",
       "\n",
       "    .dataframe thead th {\n",
       "        text-align: right;\n",
       "    }\n",
       "</style>\n",
       "<table border=\"1\" class=\"dataframe\">\n",
       "  <thead>\n",
       "    <tr style=\"text-align: right;\">\n",
       "      <th></th>\n",
       "      <th>title</th>\n",
       "      <th>header</th>\n",
       "      <th>titleUrl</th>\n",
       "      <th>subtitles</th>\n",
       "      <th>time</th>\n",
       "      <th>products</th>\n",
       "      <th>description</th>\n",
       "    </tr>\n",
       "  </thead>\n",
       "  <tbody>\n",
       "    <tr>\n",
       "      <th>3729</th>\n",
       "      <td>ดูวิดีโอที่นำออกไปแล้ว</td>\n",
       "      <td>88</td>\n",
       "      <td>0</td>\n",
       "      <td>0</td>\n",
       "      <td>88</td>\n",
       "      <td>88</td>\n",
       "      <td>0</td>\n",
       "    </tr>\n",
       "    <tr>\n",
       "      <th>1195</th>\n",
       "      <td>ดู PROMARE 1st Anniversary × 宅REC-nZk「NEXUS ＜P...</td>\n",
       "      <td>50</td>\n",
       "      <td>50</td>\n",
       "      <td>50</td>\n",
       "      <td>50</td>\n",
       "      <td>50</td>\n",
       "      <td>0</td>\n",
       "    </tr>\n",
       "    <tr>\n",
       "      <th>2588</th>\n",
       "      <td>ดู Λsʜᴇs＜MODv＞ (feat. Gemie) - Promare Rearran...</td>\n",
       "      <td>43</td>\n",
       "      <td>43</td>\n",
       "      <td>43</td>\n",
       "      <td>43</td>\n",
       "      <td>43</td>\n",
       "      <td>0</td>\n",
       "    </tr>\n",
       "    <tr>\n",
       "      <th>1347</th>\n",
       "      <td>ดู SawanoHiroyuki[nZk] [-30k]re:tuneS『Keep on ...</td>\n",
       "      <td>37</td>\n",
       "      <td>37</td>\n",
       "      <td>37</td>\n",
       "      <td>37</td>\n",
       "      <td>37</td>\n",
       "      <td>0</td>\n",
       "    </tr>\n",
       "    <tr>\n",
       "      <th>323</th>\n",
       "      <td>ดู Bios-LaZaRuS</td>\n",
       "      <td>32</td>\n",
       "      <td>32</td>\n",
       "      <td>32</td>\n",
       "      <td>32</td>\n",
       "      <td>32</td>\n",
       "      <td>0</td>\n",
       "    </tr>\n",
       "    <tr>\n",
       "      <th>3632</th>\n",
       "      <td>ดู 宅REC-nZk「Tranquility ＜MODv＞」／ SawanoHiroyuk...</td>\n",
       "      <td>29</td>\n",
       "      <td>29</td>\n",
       "      <td>29</td>\n",
       "      <td>29</td>\n",
       "      <td>29</td>\n",
       "      <td>0</td>\n",
       "    </tr>\n",
       "    <tr>\n",
       "      <th>2029</th>\n",
       "      <td>ดู https://www.youtube.com/watch?v=50hF9MGFeMA</td>\n",
       "      <td>25</td>\n",
       "      <td>25</td>\n",
       "      <td>0</td>\n",
       "      <td>25</td>\n",
       "      <td>25</td>\n",
       "      <td>0</td>\n",
       "    </tr>\n",
       "    <tr>\n",
       "      <th>1125</th>\n",
       "      <td>ดู Ninelie (Cry Version)</td>\n",
       "      <td>22</td>\n",
       "      <td>22</td>\n",
       "      <td>22</td>\n",
       "      <td>22</td>\n",
       "      <td>22</td>\n",
       "      <td>0</td>\n",
       "    </tr>\n",
       "    <tr>\n",
       "      <th>571</th>\n",
       "      <td>ดู Felidae</td>\n",
       "      <td>22</td>\n",
       "      <td>22</td>\n",
       "      <td>22</td>\n",
       "      <td>22</td>\n",
       "      <td>22</td>\n",
       "      <td>0</td>\n",
       "    </tr>\n",
       "    <tr>\n",
       "      <th>3300</th>\n",
       "      <td>ดู เรา เธอ ท่าน ดาร์คโซลกันทั้งชุดนอน! Dark So...</td>\n",
       "      <td>22</td>\n",
       "      <td>22</td>\n",
       "      <td>22</td>\n",
       "      <td>22</td>\n",
       "      <td>22</td>\n",
       "      <td>0</td>\n",
       "    </tr>\n",
       "  </tbody>\n",
       "</table>\n",
       "</div>"
      ],
      "text/plain": [
       "                                                  title  header  titleUrl  \\\n",
       "3729                             ดูวิดีโอที่นำออกไปแล้ว      88         0   \n",
       "1195  ดู PROMARE 1st Anniversary × 宅REC-nZk「NEXUS ＜P...      50        50   \n",
       "2588  ดู Λsʜᴇs＜MODv＞ (feat. Gemie) - Promare Rearran...      43        43   \n",
       "1347  ดู SawanoHiroyuki[nZk] [-30k]re:tuneS『Keep on ...      37        37   \n",
       "323                                     ดู Bios-LaZaRuS      32        32   \n",
       "3632  ดู 宅REC-nZk「Tranquility ＜MODv＞」／ SawanoHiroyuk...      29        29   \n",
       "2029     ดู https://www.youtube.com/watch?v=50hF9MGFeMA      25        25   \n",
       "1125                           ดู Ninelie (Cry Version)      22        22   \n",
       "571                                          ดู Felidae      22        22   \n",
       "3300  ดู เรา เธอ ท่าน ดาร์คโซลกันทั้งชุดนอน! Dark So...      22        22   \n",
       "\n",
       "      subtitles  time  products  description  \n",
       "3729          0    88        88            0  \n",
       "1195         50    50        50            0  \n",
       "2588         43    43        43            0  \n",
       "1347         37    37        37            0  \n",
       "323          32    32        32            0  \n",
       "3632         29    29        29            0  \n",
       "2029          0    25        25            0  \n",
       "1125         22    22        22            0  \n",
       "571          22    22        22            0  \n",
       "3300         22    22        22            0  "
      ]
     },
     "execution_count": 13,
     "metadata": {},
     "output_type": "execute_result"
    }
   ],
   "source": [
    "most_viewed.head(10)"
   ]
  },
  {
   "cell_type": "code",
   "execution_count": null,
   "metadata": {},
   "outputs": [],
   "source": []
  }
 ],
 "metadata": {
  "kernelspec": {
   "display_name": "Python 3",
   "language": "python",
   "name": "python3"
  },
  "language_info": {
   "codemirror_mode": {
    "name": "ipython",
    "version": 3
   },
   "file_extension": ".py",
   "mimetype": "text/x-python",
   "name": "python",
   "nbconvert_exporter": "python",
   "pygments_lexer": "ipython3",
   "version": "3.8.5"
  }
 },
 "nbformat": 4,
 "nbformat_minor": 4
}
