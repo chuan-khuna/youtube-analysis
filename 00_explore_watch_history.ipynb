{
 "cells": [
  {
   "cell_type": "code",
   "execution_count": 34,
   "metadata": {
    "execution": {
     "iopub.execute_input": "2020-12-29T16:09:58.096233Z",
     "iopub.status.busy": "2020-12-29T16:09:58.096233Z",
     "iopub.status.idle": "2020-12-29T16:09:58.110236Z",
     "shell.execute_reply": "2020-12-29T16:09:58.109237Z",
     "shell.execute_reply.started": "2020-12-29T16:09:58.096233Z"
    }
   },
   "outputs": [],
   "source": [
    "import json\n",
    "import pandas as pd\n",
    "import numpy as np\n",
    "import os\n",
    "import re"
   ]
  },
  {
   "cell_type": "markdown",
   "metadata": {},
   "source": [
    "## list all dir"
   ]
  },
  {
   "cell_type": "code",
   "execution_count": 2,
   "metadata": {
    "execution": {
     "iopub.execute_input": "2020-12-29T16:07:19.492159Z",
     "iopub.status.busy": "2020-12-29T16:07:19.492159Z",
     "iopub.status.idle": "2020-12-29T16:07:19.506163Z",
     "shell.execute_reply": "2020-12-29T16:07:19.506163Z",
     "shell.execute_reply.started": "2020-12-29T16:07:19.492159Z"
    }
   },
   "outputs": [
    {
     "data": {
      "text/plain": [
       "['การติดตาม', 'ประวัติ', 'เพลงในคลังเพลง', 'เพลย์ลิสต์']"
      ]
     },
     "execution_count": 2,
     "metadata": {},
     "output_type": "execute_result"
    }
   ],
   "source": [
    "path = \"./data/Takeout/YouTube และ YouTube Music/\"\n",
    "sub_directories = os.listdir(path)\n",
    "sub_directories"
   ]
  },
  {
   "cell_type": "code",
   "execution_count": 3,
   "metadata": {
    "execution": {
     "iopub.execute_input": "2020-12-29T16:07:19.506163Z",
     "iopub.status.busy": "2020-12-29T16:07:19.506163Z",
     "iopub.status.idle": "2020-12-29T16:07:19.522501Z",
     "shell.execute_reply": "2020-12-29T16:07:19.521500Z",
     "shell.execute_reply.started": "2020-12-29T16:07:19.506163Z"
    }
   },
   "outputs": [
    {
     "name": "stdout",
     "output_type": "stream",
     "text": [
      "./data/Takeout/YouTube และ YouTube Music/การติดตาม/การติดตาม.json\n",
      "./data/Takeout/YouTube และ YouTube Music/ประวัติ/ประวัติการค้นหา.json\n",
      "./data/Takeout/YouTube และ YouTube Music/ประวัติ/ประวัติการดู.json\n",
      "./data/Takeout/YouTube และ YouTube Music/เพลงในคลังเพลง/เพลงในคลังเพลง.csv\n",
      "./data/Takeout/YouTube และ YouTube Music/เพลย์ลิสต์/2neral.csv\n",
      "./data/Takeout/YouTube และ YouTube Music/เพลย์ลิสต์/AL1ST.csv\n",
      "./data/Takeout/YouTube และ YouTube Music/เพลย์ลิสต์/AMV.csv\n",
      "./data/Takeout/YouTube และ YouTube Music/เพลย์ลิสต์/analysis anime.csv\n",
      "./data/Takeout/YouTube และ YouTube Music/เพลย์ลิสต์/Best cover.csv\n",
      "./data/Takeout/YouTube และ YouTube Music/เพลย์ลิสต์/Chill BGM.csv\n",
      "./data/Takeout/YouTube และ YouTube Music/เพลย์ลิสต์/Liked videos.csv\n",
      "./data/Takeout/YouTube และ YouTube Music/เพลย์ลิสต์/MHA-Movie-OST.csv\n",
      "./data/Takeout/YouTube และ YouTube Music/เพลย์ลิสต์/NCS - Off vocal.csv\n",
      "./data/Takeout/YouTube และ YouTube Music/เพลย์ลิสต์/OST.csv\n",
      "./data/Takeout/YouTube และ YouTube Music/เพลย์ลิสต์/PC build Timelapse.csv\n",
      "./data/Takeout/YouTube และ YouTube Music/เพลย์ลิสต์/Sawano off-vocal.csv\n",
      "./data/Takeout/YouTube และ YouTube Music/เพลย์ลิสต์/Sawano-Vocal.csv\n",
      "./data/Takeout/YouTube และ YouTube Music/เพลย์ลิสต์/song.csv\n",
      "./data/Takeout/YouTube และ YouTube Music/เพลย์ลิสต์/Table Tennis.csv\n",
      "./data/Takeout/YouTube และ YouTube Music/เพลย์ลิสต์/Uploads from Chuan Khuna.csv\n",
      "./data/Takeout/YouTube และ YouTube Music/เพลย์ลิสต์/Watch later.csv\n",
      "./data/Takeout/YouTube และ YouTube Music/เพลย์ลิสต์/Yuki Hayashi B-ATTLE.csv\n",
      "./data/Takeout/YouTube และ YouTube Music/เพลย์ลิสต์/YUKI HAYASHI.csv\n",
      "./data/Takeout/YouTube และ YouTube Music/เพลย์ลิสต์/∃nt_lassen.csv\n"
     ]
    }
   ],
   "source": [
    "for sub_dir in sub_directories:\n",
    "    full_dir = f\"{path}{sub_dir}\"\n",
    "    files = os.listdir(full_dir)\n",
    "    for file in files:\n",
    "        print(f\"{full_dir}/{file}\")"
   ]
  },
  {
   "cell_type": "markdown",
   "metadata": {},
   "source": [
    "# Explore Watch Histories"
   ]
  },
  {
   "cell_type": "code",
   "execution_count": 4,
   "metadata": {
    "execution": {
     "iopub.execute_input": "2020-12-29T16:07:19.523502Z",
     "iopub.status.busy": "2020-12-29T16:07:19.523502Z",
     "iopub.status.idle": "2020-12-29T16:07:19.617535Z",
     "shell.execute_reply": "2020-12-29T16:07:19.616535Z",
     "shell.execute_reply.started": "2020-12-29T16:07:19.523502Z"
    }
   },
   "outputs": [],
   "source": [
    "file = \"./data/Takeout/YouTube และ YouTube Music/ประวัติ/ประวัติการดู.json\"\n",
    "with open(file, encoding=\"utf-8\") as f:\n",
    "    json_data = json.load(f)"
   ]
  },
  {
   "cell_type": "code",
   "execution_count": 5,
   "metadata": {
    "execution": {
     "iopub.execute_input": "2020-12-29T16:07:19.618535Z",
     "iopub.status.busy": "2020-12-29T16:07:19.617535Z",
     "iopub.status.idle": "2020-12-29T16:07:19.633539Z",
     "shell.execute_reply": "2020-12-29T16:07:19.632548Z",
     "shell.execute_reply.started": "2020-12-29T16:07:19.618535Z"
    }
   },
   "outputs": [
    {
     "data": {
      "text/plain": [
       "[{'header': 'YouTube',\n",
       "  'title': 'ดู Hiroyuki Sawano / Project【emU】「Inferno＜×PT＞」',\n",
       "  'titleUrl': 'https://www.youtube.com/watch?v=c49zedQ1eNM',\n",
       "  'subtitles': [{'name': '澤野弘之 / SawanoHiroyuki[nZk]',\n",
       "    'url': 'https://www.youtube.com/channel/UCpT4syVopfBl2bATVfAt65g'}],\n",
       "  'time': '2020-12-28T13:57:19.737Z',\n",
       "  'products': ['YouTube']},\n",
       " {'header': 'YouTube',\n",
       "  'title': 'ดู เรียน Game Design กับ Genshin Impact',\n",
       "  'titleUrl': 'https://www.youtube.com/watch?v=3zIpwQQdBmY',\n",
       "  'subtitles': [{'name': '9arm',\n",
       "    'url': 'https://www.youtube.com/channel/UCoiEtD4v1qMAqHV5MDI5Qpg'}],\n",
       "  'time': '2020-12-27T13:26:49.854Z',\n",
       "  'products': ['YouTube']},\n",
       " {'header': 'YouTube',\n",
       "  'title': 'ดู LIVE - DayZ #2 - วิบากกรรมหาเพื่อนภาค2',\n",
       "  'titleUrl': 'https://www.youtube.com/watch?v=eosGmTJZZZ8',\n",
       "  'subtitles': [{'name': 'HEARTROCKER',\n",
       "    'url': 'https://www.youtube.com/channel/UC4plRabXFGdAE6HP-tBQKdQ'}],\n",
       "  'time': '2020-12-27T13:22:10.693Z',\n",
       "  'products': ['YouTube']}]"
      ]
     },
     "execution_count": 5,
     "metadata": {},
     "output_type": "execute_result"
    }
   ],
   "source": [
    "json_data[:3]"
   ]
  },
  {
   "cell_type": "markdown",
   "metadata": {},
   "source": [
    "## The Problems...\n",
    "\n",
    "- `subtitles` กับ `products`\n",
    "\n",
    "ถ้านำไปแปลงเป็น dataframe จะกลายเป็น object"
   ]
  },
  {
   "cell_type": "code",
   "execution_count": 6,
   "metadata": {
    "execution": {
     "iopub.execute_input": "2020-12-29T16:07:19.634541Z",
     "iopub.status.busy": "2020-12-29T16:07:19.633539Z",
     "iopub.status.idle": "2020-12-29T16:07:19.711557Z",
     "shell.execute_reply": "2020-12-29T16:07:19.711557Z",
     "shell.execute_reply.started": "2020-12-29T16:07:19.634541Z"
    }
   },
   "outputs": [],
   "source": [
    "df = pd.DataFrame(json_data)\n",
    "df.to_csv(\"./data/watch_histories.csv\", index=False)"
   ]
  },
  {
   "cell_type": "code",
   "execution_count": 7,
   "metadata": {
    "execution": {
     "iopub.execute_input": "2020-12-29T16:07:19.712557Z",
     "iopub.status.busy": "2020-12-29T16:07:19.712557Z",
     "iopub.status.idle": "2020-12-29T16:07:19.727561Z",
     "shell.execute_reply": "2020-12-29T16:07:19.726561Z",
     "shell.execute_reply.started": "2020-12-29T16:07:19.712557Z"
    }
   },
   "outputs": [
    {
     "name": "stdout",
     "output_type": "stream",
     "text": [
      "<class 'pandas.core.frame.DataFrame'>\n",
      "RangeIndex: 6566 entries, 0 to 6565\n",
      "Data columns (total 7 columns):\n",
      " #   Column       Non-Null Count  Dtype \n",
      "---  ------       --------------  ----- \n",
      " 0   header       6566 non-null   object\n",
      " 1   title        6566 non-null   object\n",
      " 2   titleUrl     6476 non-null   object\n",
      " 3   subtitles    5424 non-null   object\n",
      " 4   time         6566 non-null   object\n",
      " 5   products     6566 non-null   object\n",
      " 6   description  1 non-null      object\n",
      "dtypes: object(7)\n",
      "memory usage: 359.2+ KB\n"
     ]
    }
   ],
   "source": [
    "df.info()"
   ]
  },
  {
   "cell_type": "code",
   "execution_count": 8,
   "metadata": {
    "execution": {
     "iopub.execute_input": "2020-12-29T16:07:19.730562Z",
     "iopub.status.busy": "2020-12-29T16:07:19.730562Z",
     "iopub.status.idle": "2020-12-29T16:07:19.743564Z",
     "shell.execute_reply": "2020-12-29T16:07:19.742564Z",
     "shell.execute_reply.started": "2020-12-29T16:07:19.730562Z"
    }
   },
   "outputs": [
    {
     "data": {
      "text/plain": [
       "YouTube          6565\n",
       "YouTube Music       1\n",
       "Name: header, dtype: int64"
      ]
     },
     "execution_count": 8,
     "metadata": {},
     "output_type": "execute_result"
    }
   ],
   "source": [
    "df['header'].value_counts()"
   ]
  },
  {
   "cell_type": "markdown",
   "metadata": {},
   "source": [
    "### products & subtitles"
   ]
  },
  {
   "cell_type": "code",
   "execution_count": 9,
   "metadata": {
    "execution": {
     "iopub.execute_input": "2020-12-29T16:07:19.744565Z",
     "iopub.status.busy": "2020-12-29T16:07:19.744565Z",
     "iopub.status.idle": "2020-12-29T16:07:19.774572Z",
     "shell.execute_reply": "2020-12-29T16:07:19.774572Z",
     "shell.execute_reply.started": "2020-12-29T16:07:19.744565Z"
    }
   },
   "outputs": [
    {
     "data": {
      "text/html": [
       "<div>\n",
       "<style scoped>\n",
       "    .dataframe tbody tr th:only-of-type {\n",
       "        vertical-align: middle;\n",
       "    }\n",
       "\n",
       "    .dataframe tbody tr th {\n",
       "        vertical-align: top;\n",
       "    }\n",
       "\n",
       "    .dataframe thead th {\n",
       "        text-align: right;\n",
       "    }\n",
       "</style>\n",
       "<table border=\"1\" class=\"dataframe\">\n",
       "  <thead>\n",
       "    <tr style=\"text-align: right;\">\n",
       "      <th></th>\n",
       "      <th>header</th>\n",
       "      <th>title</th>\n",
       "      <th>titleUrl</th>\n",
       "      <th>subtitles</th>\n",
       "      <th>time</th>\n",
       "      <th>products</th>\n",
       "      <th>description</th>\n",
       "    </tr>\n",
       "  </thead>\n",
       "  <tbody>\n",
       "    <tr>\n",
       "      <th>0</th>\n",
       "      <td>YouTube</td>\n",
       "      <td>ดู Hiroyuki Sawano / Project【emU】「Inferno＜×PT＞」</td>\n",
       "      <td>https://www.youtube.com/watch?v=c49zedQ1eNM</td>\n",
       "      <td>[{'name': '澤野弘之 / SawanoHiroyuki[nZk]', 'url':...</td>\n",
       "      <td>2020-12-28T13:57:19.737Z</td>\n",
       "      <td>[YouTube]</td>\n",
       "      <td>NaN</td>\n",
       "    </tr>\n",
       "    <tr>\n",
       "      <th>1</th>\n",
       "      <td>YouTube</td>\n",
       "      <td>ดู เรียน Game Design กับ Genshin Impact</td>\n",
       "      <td>https://www.youtube.com/watch?v=3zIpwQQdBmY</td>\n",
       "      <td>[{'name': '9arm', 'url': 'https://www.youtube....</td>\n",
       "      <td>2020-12-27T13:26:49.854Z</td>\n",
       "      <td>[YouTube]</td>\n",
       "      <td>NaN</td>\n",
       "    </tr>\n",
       "    <tr>\n",
       "      <th>2</th>\n",
       "      <td>YouTube</td>\n",
       "      <td>ดู LIVE - DayZ #2 - วิบากกรรมหาเพื่อนภาค2</td>\n",
       "      <td>https://www.youtube.com/watch?v=eosGmTJZZZ8</td>\n",
       "      <td>[{'name': 'HEARTROCKER', 'url': 'https://www.y...</td>\n",
       "      <td>2020-12-27T13:22:10.693Z</td>\n",
       "      <td>[YouTube]</td>\n",
       "      <td>NaN</td>\n",
       "    </tr>\n",
       "    <tr>\n",
       "      <th>3</th>\n",
       "      <td>YouTube</td>\n",
       "      <td>ดู esport ในร่างกฏหมายและความชิบหายของงานวิจัย</td>\n",
       "      <td>https://www.youtube.com/watch?v=t1ZpJzlH6QE</td>\n",
       "      <td>[{'name': '9arm', 'url': 'https://www.youtube....</td>\n",
       "      <td>2020-12-27T13:15:59.318Z</td>\n",
       "      <td>[YouTube]</td>\n",
       "      <td>NaN</td>\n",
       "    </tr>\n",
       "    <tr>\n",
       "      <th>4</th>\n",
       "      <td>YouTube</td>\n",
       "      <td>ดู ปืนคู่หูหมีดูสูสีหูหมีหูหมู - FreeFire สไตล...</td>\n",
       "      <td>https://www.youtube.com/watch?v=CNo1z1MScbE</td>\n",
       "      <td>[{'name': 'HEARTROCKER', 'url': 'https://www.y...</td>\n",
       "      <td>2020-12-27T11:09:01.053Z</td>\n",
       "      <td>[YouTube]</td>\n",
       "      <td>NaN</td>\n",
       "    </tr>\n",
       "  </tbody>\n",
       "</table>\n",
       "</div>"
      ],
      "text/plain": [
       "    header                                              title  \\\n",
       "0  YouTube    ดู Hiroyuki Sawano / Project【emU】「Inferno＜×PT＞」   \n",
       "1  YouTube            ดู เรียน Game Design กับ Genshin Impact   \n",
       "2  YouTube          ดู LIVE - DayZ #2 - วิบากกรรมหาเพื่อนภาค2   \n",
       "3  YouTube     ดู esport ในร่างกฏหมายและความชิบหายของงานวิจัย   \n",
       "4  YouTube  ดู ปืนคู่หูหมีดูสูสีหูหมีหูหมู - FreeFire สไตล...   \n",
       "\n",
       "                                      titleUrl  \\\n",
       "0  https://www.youtube.com/watch?v=c49zedQ1eNM   \n",
       "1  https://www.youtube.com/watch?v=3zIpwQQdBmY   \n",
       "2  https://www.youtube.com/watch?v=eosGmTJZZZ8   \n",
       "3  https://www.youtube.com/watch?v=t1ZpJzlH6QE   \n",
       "4  https://www.youtube.com/watch?v=CNo1z1MScbE   \n",
       "\n",
       "                                           subtitles  \\\n",
       "0  [{'name': '澤野弘之 / SawanoHiroyuki[nZk]', 'url':...   \n",
       "1  [{'name': '9arm', 'url': 'https://www.youtube....   \n",
       "2  [{'name': 'HEARTROCKER', 'url': 'https://www.y...   \n",
       "3  [{'name': '9arm', 'url': 'https://www.youtube....   \n",
       "4  [{'name': 'HEARTROCKER', 'url': 'https://www.y...   \n",
       "\n",
       "                       time   products description  \n",
       "0  2020-12-28T13:57:19.737Z  [YouTube]         NaN  \n",
       "1  2020-12-27T13:26:49.854Z  [YouTube]         NaN  \n",
       "2  2020-12-27T13:22:10.693Z  [YouTube]         NaN  \n",
       "3  2020-12-27T13:15:59.318Z  [YouTube]         NaN  \n",
       "4  2020-12-27T11:09:01.053Z  [YouTube]         NaN  "
      ]
     },
     "execution_count": 9,
     "metadata": {},
     "output_type": "execute_result"
    }
   ],
   "source": [
    "df.head()"
   ]
  },
  {
   "cell_type": "code",
   "execution_count": 10,
   "metadata": {
    "execution": {
     "iopub.execute_input": "2020-12-29T16:07:19.776572Z",
     "iopub.status.busy": "2020-12-29T16:07:19.775572Z",
     "iopub.status.idle": "2020-12-29T16:07:20.090644Z",
     "shell.execute_reply": "2020-12-29T16:07:20.089642Z",
     "shell.execute_reply.started": "2020-12-29T16:07:19.776572Z"
    }
   },
   "outputs": [
    {
     "ename": "TypeError",
     "evalue": "unhashable type: 'list'",
     "output_type": "error",
     "traceback": [
      "\u001b[1;31m---------------------------------------------------------------------------\u001b[0m",
      "\u001b[1;31mTypeError\u001b[0m                                 Traceback (most recent call last)",
      "\u001b[1;32mpandas\\_libs\\hashtable_class_helper.pxi\u001b[0m in \u001b[0;36mpandas._libs.hashtable.PyObjectHashTable.map_locations\u001b[1;34m()\u001b[0m\n",
      "\u001b[1;31mTypeError\u001b[0m: unhashable type: 'list'"
     ]
    },
    {
     "name": "stderr",
     "output_type": "stream",
     "text": [
      "Exception ignored in: 'pandas._libs.index.IndexEngine._call_map_locations'\n",
      "Traceback (most recent call last):\n",
      "  File \"pandas\\_libs\\hashtable_class_helper.pxi\", line 1709, in pandas._libs.hashtable.PyObjectHashTable.map_locations\n",
      "TypeError: unhashable type: 'list'\n"
     ]
    },
    {
     "data": {
      "text/plain": [
       "[YouTube]    6566\n",
       "Name: products, dtype: int64"
      ]
     },
     "execution_count": 10,
     "metadata": {},
     "output_type": "execute_result"
    }
   ],
   "source": [
    "df['products'].value_counts()"
   ]
  },
  {
   "cell_type": "code",
   "execution_count": 11,
   "metadata": {
    "execution": {
     "iopub.execute_input": "2020-12-29T16:07:20.091644Z",
     "iopub.status.busy": "2020-12-29T16:07:20.091644Z",
     "iopub.status.idle": "2020-12-29T16:07:20.169660Z",
     "shell.execute_reply": "2020-12-29T16:07:20.168659Z",
     "shell.execute_reply.started": "2020-12-29T16:07:20.091644Z"
    }
   },
   "outputs": [
    {
     "ename": "TypeError",
     "evalue": "unhashable type: 'list'",
     "output_type": "error",
     "traceback": [
      "\u001b[1;31m---------------------------------------------------------------------------\u001b[0m",
      "\u001b[1;31mTypeError\u001b[0m                                 Traceback (most recent call last)",
      "\u001b[1;32mpandas\\_libs\\hashtable_class_helper.pxi\u001b[0m in \u001b[0;36mpandas._libs.hashtable.PyObjectHashTable.map_locations\u001b[1;34m()\u001b[0m\n",
      "\u001b[1;31mTypeError\u001b[0m: unhashable type: 'list'"
     ]
    },
    {
     "name": "stderr",
     "output_type": "stream",
     "text": [
      "Exception ignored in: 'pandas._libs.index.IndexEngine._call_map_locations'\n",
      "Traceback (most recent call last):\n",
      "  File \"pandas\\_libs\\hashtable_class_helper.pxi\", line 1709, in pandas._libs.hashtable.PyObjectHashTable.map_locations\n",
      "TypeError: unhashable type: 'list'\n"
     ]
    },
    {
     "data": {
      "text/plain": [
       "[{'name': 'HEARTROCKER', 'url': 'https://www.youtube.com/channel/UC4plRabXFGdAE6HP-tBQKdQ'}]                   497\n",
       "[{'name': 'Max Galactica', 'url': 'https://www.youtube.com/channel/UCVlccgb8OMMUQPghZhRZtwg'}]                 450\n",
       "[{'name': 'Hiroyuki Sawano - Topic', 'url': 'https://www.youtube.com/channel/UCy3Lx1fNl4XnxleZBJK_PXw'}]       444\n",
       "[{'name': 'ชุดนอน ขอรบกวนทั้งชุดนอน', 'url': 'https://www.youtube.com/channel/UCeb92QzSg2YfXyllnkZQGIw'}]      292\n",
       "[{'name': '澤野弘之 / SawanoHiroyuki[nZk]', 'url': 'https://www.youtube.com/channel/UCbJM_Y06iuUOl3hVPqYcvng'}]    252\n",
       "                                                                                                              ... \n",
       "[{'name': 'sanzy', 'url': 'https://www.youtube.com/channel/UC4hAgzoKD1mDEWNJkKU9h8g'}]                           1\n",
       "[{'name': 'AlphaWolfPaw', 'url': 'https://www.youtube.com/channel/UC2O9M2wG5sNYFsp5WesTSHw'}]                    1\n",
       "[{'name': 'よさく', 'url': 'https://www.youtube.com/channel/UCaxax6mkuVRNuTlmduG1vNA'}]                             1\n",
       "[{'name': '野坂ひかり', 'url': 'https://www.youtube.com/channel/UCbsrv2lr0aMkprST91DNeWw'}]                           1\n",
       "[{'name': 'Voccaloider', 'url': 'https://www.youtube.com/channel/UCGg208AEbNElZOMSOa9DgBg'}]                     1\n",
       "Name: subtitles, Length: 686, dtype: int64"
      ]
     },
     "execution_count": 11,
     "metadata": {},
     "output_type": "execute_result"
    }
   ],
   "source": [
    "df['subtitles'].value_counts()"
   ]
  },
  {
   "cell_type": "markdown",
   "metadata": {},
   "source": [
    "### Another Problem ... with deleted video and title is Url-format\n",
    "\n",
    "- delete `deleted video` row\n",
    "- `url-format` ?"
   ]
  },
  {
   "cell_type": "code",
   "execution_count": 12,
   "metadata": {
    "execution": {
     "iopub.execute_input": "2020-12-29T16:07:20.170661Z",
     "iopub.status.busy": "2020-12-29T16:07:20.170661Z",
     "iopub.status.idle": "2020-12-29T16:07:20.201668Z",
     "shell.execute_reply": "2020-12-29T16:07:20.200667Z",
     "shell.execute_reply.started": "2020-12-29T16:07:20.170661Z"
    }
   },
   "outputs": [],
   "source": [
    "most_viewed = df.groupby(by=['title']).count().reset_index().sort_values(by=['time'], ascending=False)"
   ]
  },
  {
   "cell_type": "code",
   "execution_count": 13,
   "metadata": {
    "execution": {
     "iopub.execute_input": "2020-12-29T16:07:20.202668Z",
     "iopub.status.busy": "2020-12-29T16:07:20.201668Z",
     "iopub.status.idle": "2020-12-29T16:07:20.217671Z",
     "shell.execute_reply": "2020-12-29T16:07:20.216672Z",
     "shell.execute_reply.started": "2020-12-29T16:07:20.202668Z"
    }
   },
   "outputs": [
    {
     "data": {
      "text/html": [
       "<div>\n",
       "<style scoped>\n",
       "    .dataframe tbody tr th:only-of-type {\n",
       "        vertical-align: middle;\n",
       "    }\n",
       "\n",
       "    .dataframe tbody tr th {\n",
       "        vertical-align: top;\n",
       "    }\n",
       "\n",
       "    .dataframe thead th {\n",
       "        text-align: right;\n",
       "    }\n",
       "</style>\n",
       "<table border=\"1\" class=\"dataframe\">\n",
       "  <thead>\n",
       "    <tr style=\"text-align: right;\">\n",
       "      <th></th>\n",
       "      <th>title</th>\n",
       "      <th>header</th>\n",
       "      <th>titleUrl</th>\n",
       "      <th>subtitles</th>\n",
       "      <th>time</th>\n",
       "      <th>products</th>\n",
       "      <th>description</th>\n",
       "    </tr>\n",
       "  </thead>\n",
       "  <tbody>\n",
       "    <tr>\n",
       "      <th>3729</th>\n",
       "      <td>ดูวิดีโอที่นำออกไปแล้ว</td>\n",
       "      <td>88</td>\n",
       "      <td>0</td>\n",
       "      <td>0</td>\n",
       "      <td>88</td>\n",
       "      <td>88</td>\n",
       "      <td>0</td>\n",
       "    </tr>\n",
       "    <tr>\n",
       "      <th>1195</th>\n",
       "      <td>ดู PROMARE 1st Anniversary × 宅REC-nZk「NEXUS ＜P...</td>\n",
       "      <td>50</td>\n",
       "      <td>50</td>\n",
       "      <td>50</td>\n",
       "      <td>50</td>\n",
       "      <td>50</td>\n",
       "      <td>0</td>\n",
       "    </tr>\n",
       "    <tr>\n",
       "      <th>2588</th>\n",
       "      <td>ดู Λsʜᴇs＜MODv＞ (feat. Gemie) - Promare Rearran...</td>\n",
       "      <td>43</td>\n",
       "      <td>43</td>\n",
       "      <td>43</td>\n",
       "      <td>43</td>\n",
       "      <td>43</td>\n",
       "      <td>0</td>\n",
       "    </tr>\n",
       "    <tr>\n",
       "      <th>1347</th>\n",
       "      <td>ดู SawanoHiroyuki[nZk] [-30k]re:tuneS『Keep on ...</td>\n",
       "      <td>37</td>\n",
       "      <td>37</td>\n",
       "      <td>37</td>\n",
       "      <td>37</td>\n",
       "      <td>37</td>\n",
       "      <td>0</td>\n",
       "    </tr>\n",
       "    <tr>\n",
       "      <th>323</th>\n",
       "      <td>ดู Bios-LaZaRuS</td>\n",
       "      <td>32</td>\n",
       "      <td>32</td>\n",
       "      <td>32</td>\n",
       "      <td>32</td>\n",
       "      <td>32</td>\n",
       "      <td>0</td>\n",
       "    </tr>\n",
       "    <tr>\n",
       "      <th>3632</th>\n",
       "      <td>ดู 宅REC-nZk「Tranquility ＜MODv＞」／ SawanoHiroyuk...</td>\n",
       "      <td>29</td>\n",
       "      <td>29</td>\n",
       "      <td>29</td>\n",
       "      <td>29</td>\n",
       "      <td>29</td>\n",
       "      <td>0</td>\n",
       "    </tr>\n",
       "    <tr>\n",
       "      <th>2029</th>\n",
       "      <td>ดู https://www.youtube.com/watch?v=50hF9MGFeMA</td>\n",
       "      <td>25</td>\n",
       "      <td>25</td>\n",
       "      <td>0</td>\n",
       "      <td>25</td>\n",
       "      <td>25</td>\n",
       "      <td>0</td>\n",
       "    </tr>\n",
       "    <tr>\n",
       "      <th>1125</th>\n",
       "      <td>ดู Ninelie (Cry Version)</td>\n",
       "      <td>22</td>\n",
       "      <td>22</td>\n",
       "      <td>22</td>\n",
       "      <td>22</td>\n",
       "      <td>22</td>\n",
       "      <td>0</td>\n",
       "    </tr>\n",
       "    <tr>\n",
       "      <th>571</th>\n",
       "      <td>ดู Felidae</td>\n",
       "      <td>22</td>\n",
       "      <td>22</td>\n",
       "      <td>22</td>\n",
       "      <td>22</td>\n",
       "      <td>22</td>\n",
       "      <td>0</td>\n",
       "    </tr>\n",
       "    <tr>\n",
       "      <th>3300</th>\n",
       "      <td>ดู เรา เธอ ท่าน ดาร์คโซลกันทั้งชุดนอน! Dark So...</td>\n",
       "      <td>22</td>\n",
       "      <td>22</td>\n",
       "      <td>22</td>\n",
       "      <td>22</td>\n",
       "      <td>22</td>\n",
       "      <td>0</td>\n",
       "    </tr>\n",
       "  </tbody>\n",
       "</table>\n",
       "</div>"
      ],
      "text/plain": [
       "                                                  title  header  titleUrl  \\\n",
       "3729                             ดูวิดีโอที่นำออกไปแล้ว      88         0   \n",
       "1195  ดู PROMARE 1st Anniversary × 宅REC-nZk「NEXUS ＜P...      50        50   \n",
       "2588  ดู Λsʜᴇs＜MODv＞ (feat. Gemie) - Promare Rearran...      43        43   \n",
       "1347  ดู SawanoHiroyuki[nZk] [-30k]re:tuneS『Keep on ...      37        37   \n",
       "323                                     ดู Bios-LaZaRuS      32        32   \n",
       "3632  ดู 宅REC-nZk「Tranquility ＜MODv＞」／ SawanoHiroyuk...      29        29   \n",
       "2029     ดู https://www.youtube.com/watch?v=50hF9MGFeMA      25        25   \n",
       "1125                           ดู Ninelie (Cry Version)      22        22   \n",
       "571                                          ดู Felidae      22        22   \n",
       "3300  ดู เรา เธอ ท่าน ดาร์คโซลกันทั้งชุดนอน! Dark So...      22        22   \n",
       "\n",
       "      subtitles  time  products  description  \n",
       "3729          0    88        88            0  \n",
       "1195         50    50        50            0  \n",
       "2588         43    43        43            0  \n",
       "1347         37    37        37            0  \n",
       "323          32    32        32            0  \n",
       "3632         29    29        29            0  \n",
       "2029          0    25        25            0  \n",
       "1125         22    22        22            0  \n",
       "571          22    22        22            0  \n",
       "3300         22    22        22            0  "
      ]
     },
     "execution_count": 13,
     "metadata": {},
     "output_type": "execute_result"
    }
   ],
   "source": [
    "most_viewed.head(10)"
   ]
  },
  {
   "cell_type": "markdown",
   "metadata": {},
   "source": [
    "## Preprocess for the Subtitles problem "
   ]
  },
  {
   "cell_type": "code",
   "execution_count": 14,
   "metadata": {
    "execution": {
     "iopub.execute_input": "2020-12-29T16:07:20.219672Z",
     "iopub.status.busy": "2020-12-29T16:07:20.218672Z",
     "iopub.status.idle": "2020-12-29T16:07:20.233675Z",
     "shell.execute_reply": "2020-12-29T16:07:20.232674Z",
     "shell.execute_reply.started": "2020-12-29T16:07:20.219672Z"
    }
   },
   "outputs": [],
   "source": [
    "def get_channel_data(row, col):\n",
    "    return row[0][col]"
   ]
  },
  {
   "cell_type": "code",
   "execution_count": 15,
   "metadata": {
    "execution": {
     "iopub.execute_input": "2020-12-29T16:07:20.234676Z",
     "iopub.status.busy": "2020-12-29T16:07:20.234676Z",
     "iopub.status.idle": "2020-12-29T16:07:20.265682Z",
     "shell.execute_reply": "2020-12-29T16:07:20.264681Z",
     "shell.execute_reply.started": "2020-12-29T16:07:20.234676Z"
    }
   },
   "outputs": [
    {
     "data": {
      "text/html": [
       "<div>\n",
       "<style scoped>\n",
       "    .dataframe tbody tr th:only-of-type {\n",
       "        vertical-align: middle;\n",
       "    }\n",
       "\n",
       "    .dataframe tbody tr th {\n",
       "        vertical-align: top;\n",
       "    }\n",
       "\n",
       "    .dataframe thead th {\n",
       "        text-align: right;\n",
       "    }\n",
       "</style>\n",
       "<table border=\"1\" class=\"dataframe\">\n",
       "  <thead>\n",
       "    <tr style=\"text-align: right;\">\n",
       "      <th></th>\n",
       "      <th>header</th>\n",
       "      <th>title</th>\n",
       "      <th>titleUrl</th>\n",
       "      <th>subtitles</th>\n",
       "      <th>time</th>\n",
       "      <th>products</th>\n",
       "      <th>description</th>\n",
       "    </tr>\n",
       "  </thead>\n",
       "  <tbody>\n",
       "    <tr>\n",
       "      <th>0</th>\n",
       "      <td>YouTube</td>\n",
       "      <td>ดู Hiroyuki Sawano / Project【emU】「Inferno＜×PT＞」</td>\n",
       "      <td>https://www.youtube.com/watch?v=c49zedQ1eNM</td>\n",
       "      <td>[{'name': '澤野弘之 / SawanoHiroyuki[nZk]', 'url':...</td>\n",
       "      <td>2020-12-28T13:57:19.737Z</td>\n",
       "      <td>[YouTube]</td>\n",
       "      <td>NaN</td>\n",
       "    </tr>\n",
       "    <tr>\n",
       "      <th>1</th>\n",
       "      <td>YouTube</td>\n",
       "      <td>ดู เรียน Game Design กับ Genshin Impact</td>\n",
       "      <td>https://www.youtube.com/watch?v=3zIpwQQdBmY</td>\n",
       "      <td>[{'name': '9arm', 'url': 'https://www.youtube....</td>\n",
       "      <td>2020-12-27T13:26:49.854Z</td>\n",
       "      <td>[YouTube]</td>\n",
       "      <td>NaN</td>\n",
       "    </tr>\n",
       "    <tr>\n",
       "      <th>2</th>\n",
       "      <td>YouTube</td>\n",
       "      <td>ดู LIVE - DayZ #2 - วิบากกรรมหาเพื่อนภาค2</td>\n",
       "      <td>https://www.youtube.com/watch?v=eosGmTJZZZ8</td>\n",
       "      <td>[{'name': 'HEARTROCKER', 'url': 'https://www.y...</td>\n",
       "      <td>2020-12-27T13:22:10.693Z</td>\n",
       "      <td>[YouTube]</td>\n",
       "      <td>NaN</td>\n",
       "    </tr>\n",
       "    <tr>\n",
       "      <th>3</th>\n",
       "      <td>YouTube</td>\n",
       "      <td>ดู esport ในร่างกฏหมายและความชิบหายของงานวิจัย</td>\n",
       "      <td>https://www.youtube.com/watch?v=t1ZpJzlH6QE</td>\n",
       "      <td>[{'name': '9arm', 'url': 'https://www.youtube....</td>\n",
       "      <td>2020-12-27T13:15:59.318Z</td>\n",
       "      <td>[YouTube]</td>\n",
       "      <td>NaN</td>\n",
       "    </tr>\n",
       "    <tr>\n",
       "      <th>4</th>\n",
       "      <td>YouTube</td>\n",
       "      <td>ดู ปืนคู่หูหมีดูสูสีหูหมีหูหมู - FreeFire สไตล...</td>\n",
       "      <td>https://www.youtube.com/watch?v=CNo1z1MScbE</td>\n",
       "      <td>[{'name': 'HEARTROCKER', 'url': 'https://www.y...</td>\n",
       "      <td>2020-12-27T11:09:01.053Z</td>\n",
       "      <td>[YouTube]</td>\n",
       "      <td>NaN</td>\n",
       "    </tr>\n",
       "  </tbody>\n",
       "</table>\n",
       "</div>"
      ],
      "text/plain": [
       "    header                                              title  \\\n",
       "0  YouTube    ดู Hiroyuki Sawano / Project【emU】「Inferno＜×PT＞」   \n",
       "1  YouTube            ดู เรียน Game Design กับ Genshin Impact   \n",
       "2  YouTube          ดู LIVE - DayZ #2 - วิบากกรรมหาเพื่อนภาค2   \n",
       "3  YouTube     ดู esport ในร่างกฏหมายและความชิบหายของงานวิจัย   \n",
       "4  YouTube  ดู ปืนคู่หูหมีดูสูสีหูหมีหูหมู - FreeFire สไตล...   \n",
       "\n",
       "                                      titleUrl  \\\n",
       "0  https://www.youtube.com/watch?v=c49zedQ1eNM   \n",
       "1  https://www.youtube.com/watch?v=3zIpwQQdBmY   \n",
       "2  https://www.youtube.com/watch?v=eosGmTJZZZ8   \n",
       "3  https://www.youtube.com/watch?v=t1ZpJzlH6QE   \n",
       "4  https://www.youtube.com/watch?v=CNo1z1MScbE   \n",
       "\n",
       "                                           subtitles  \\\n",
       "0  [{'name': '澤野弘之 / SawanoHiroyuki[nZk]', 'url':...   \n",
       "1  [{'name': '9arm', 'url': 'https://www.youtube....   \n",
       "2  [{'name': 'HEARTROCKER', 'url': 'https://www.y...   \n",
       "3  [{'name': '9arm', 'url': 'https://www.youtube....   \n",
       "4  [{'name': 'HEARTROCKER', 'url': 'https://www.y...   \n",
       "\n",
       "                       time   products description  \n",
       "0  2020-12-28T13:57:19.737Z  [YouTube]         NaN  \n",
       "1  2020-12-27T13:26:49.854Z  [YouTube]         NaN  \n",
       "2  2020-12-27T13:22:10.693Z  [YouTube]         NaN  \n",
       "3  2020-12-27T13:15:59.318Z  [YouTube]         NaN  \n",
       "4  2020-12-27T11:09:01.053Z  [YouTube]         NaN  "
      ]
     },
     "execution_count": 15,
     "metadata": {},
     "output_type": "execute_result"
    }
   ],
   "source": [
    "df_with_subtitles = df[(~df['subtitles'].isna())]\n",
    "df_with_subtitles.head()"
   ]
  },
  {
   "cell_type": "code",
   "execution_count": 16,
   "metadata": {
    "execution": {
     "iopub.execute_input": "2020-12-29T16:07:20.265682Z",
     "iopub.status.busy": "2020-12-29T16:07:20.265682Z",
     "iopub.status.idle": "2020-12-29T16:07:20.281685Z",
     "shell.execute_reply": "2020-12-29T16:07:20.280685Z",
     "shell.execute_reply.started": "2020-12-29T16:07:20.265682Z"
    }
   },
   "outputs": [
    {
     "data": {
      "text/plain": [
       "0       澤野弘之 / SawanoHiroyuki[nZk]\n",
       "1                             9arm\n",
       "2                      HEARTROCKER\n",
       "3                             9arm\n",
       "4                      HEARTROCKER\n",
       "                   ...            \n",
       "6561         Official ITTF Channel\n",
       "6562         Official ITTF Channel\n",
       "6563                     Glermz TV\n",
       "6564                      The Moof\n",
       "6565      ชุดนอน ขอรบกวนทั้งชุดนอน\n",
       "Name: subtitles, Length: 5424, dtype: object"
      ]
     },
     "execution_count": 16,
     "metadata": {},
     "output_type": "execute_result"
    }
   ],
   "source": [
    "df_with_subtitles['subtitles'].apply(get_channel_data, args=['name'])"
   ]
  },
  {
   "cell_type": "code",
   "execution_count": 17,
   "metadata": {
    "execution": {
     "iopub.execute_input": "2020-12-29T16:07:20.282685Z",
     "iopub.status.busy": "2020-12-29T16:07:20.281685Z",
     "iopub.status.idle": "2020-12-29T16:07:20.297689Z",
     "shell.execute_reply": "2020-12-29T16:07:20.296689Z",
     "shell.execute_reply.started": "2020-12-29T16:07:20.282685Z"
    }
   },
   "outputs": [
    {
     "data": {
      "text/plain": [
       "0       https://www.youtube.com/channel/UCpT4syVopfBl2...\n",
       "1       https://www.youtube.com/channel/UCoiEtD4v1qMAq...\n",
       "2       https://www.youtube.com/channel/UC4plRabXFGdAE...\n",
       "3       https://www.youtube.com/channel/UCoiEtD4v1qMAq...\n",
       "4       https://www.youtube.com/channel/UC4plRabXFGdAE...\n",
       "                              ...                        \n",
       "6561    https://www.youtube.com/channel/UC9ckyA_A3MfXU...\n",
       "6562    https://www.youtube.com/channel/UC9ckyA_A3MfXU...\n",
       "6563    https://www.youtube.com/channel/UC7cUyDEbLaq3h...\n",
       "6564    https://www.youtube.com/channel/UC9b9KpewX_rIZ...\n",
       "6565    https://www.youtube.com/channel/UCeb92QzSg2YfX...\n",
       "Name: subtitles, Length: 5424, dtype: object"
      ]
     },
     "execution_count": 17,
     "metadata": {},
     "output_type": "execute_result"
    }
   ],
   "source": [
    "df_with_subtitles['subtitles'].apply(get_channel_data, args=['url'])"
   ]
  },
  {
   "cell_type": "code",
   "execution_count": 18,
   "metadata": {
    "execution": {
     "iopub.execute_input": "2020-12-29T16:07:20.297689Z",
     "iopub.status.busy": "2020-12-29T16:07:20.297689Z",
     "iopub.status.idle": "2020-12-29T16:07:20.313694Z",
     "shell.execute_reply": "2020-12-29T16:07:20.312692Z",
     "shell.execute_reply.started": "2020-12-29T16:07:20.297689Z"
    }
   },
   "outputs": [],
   "source": [
    "df['channelName'] = df_with_subtitles['subtitles'].apply(get_channel_data, args=['name'])\n",
    "df['channelUrl'] = df_with_subtitles['subtitles'].apply(get_channel_data, args=['url'])"
   ]
  },
  {
   "cell_type": "code",
   "execution_count": 19,
   "metadata": {
    "execution": {
     "iopub.execute_input": "2020-12-29T16:07:20.315694Z",
     "iopub.status.busy": "2020-12-29T16:07:20.315694Z",
     "iopub.status.idle": "2020-12-29T16:07:20.344700Z",
     "shell.execute_reply": "2020-12-29T16:07:20.344700Z",
     "shell.execute_reply.started": "2020-12-29T16:07:20.315694Z"
    }
   },
   "outputs": [
    {
     "data": {
      "text/html": [
       "<div>\n",
       "<style scoped>\n",
       "    .dataframe tbody tr th:only-of-type {\n",
       "        vertical-align: middle;\n",
       "    }\n",
       "\n",
       "    .dataframe tbody tr th {\n",
       "        vertical-align: top;\n",
       "    }\n",
       "\n",
       "    .dataframe thead th {\n",
       "        text-align: right;\n",
       "    }\n",
       "</style>\n",
       "<table border=\"1\" class=\"dataframe\">\n",
       "  <thead>\n",
       "    <tr style=\"text-align: right;\">\n",
       "      <th></th>\n",
       "      <th>header</th>\n",
       "      <th>title</th>\n",
       "      <th>titleUrl</th>\n",
       "      <th>subtitles</th>\n",
       "      <th>time</th>\n",
       "      <th>products</th>\n",
       "      <th>description</th>\n",
       "      <th>channelName</th>\n",
       "      <th>channelUrl</th>\n",
       "    </tr>\n",
       "  </thead>\n",
       "  <tbody>\n",
       "    <tr>\n",
       "      <th>0</th>\n",
       "      <td>YouTube</td>\n",
       "      <td>ดู Hiroyuki Sawano / Project【emU】「Inferno＜×PT＞」</td>\n",
       "      <td>https://www.youtube.com/watch?v=c49zedQ1eNM</td>\n",
       "      <td>[{'name': '澤野弘之 / SawanoHiroyuki[nZk]', 'url':...</td>\n",
       "      <td>2020-12-28T13:57:19.737Z</td>\n",
       "      <td>[YouTube]</td>\n",
       "      <td>NaN</td>\n",
       "      <td>澤野弘之 / SawanoHiroyuki[nZk]</td>\n",
       "      <td>https://www.youtube.com/channel/UCpT4syVopfBl2...</td>\n",
       "    </tr>\n",
       "    <tr>\n",
       "      <th>1</th>\n",
       "      <td>YouTube</td>\n",
       "      <td>ดู เรียน Game Design กับ Genshin Impact</td>\n",
       "      <td>https://www.youtube.com/watch?v=3zIpwQQdBmY</td>\n",
       "      <td>[{'name': '9arm', 'url': 'https://www.youtube....</td>\n",
       "      <td>2020-12-27T13:26:49.854Z</td>\n",
       "      <td>[YouTube]</td>\n",
       "      <td>NaN</td>\n",
       "      <td>9arm</td>\n",
       "      <td>https://www.youtube.com/channel/UCoiEtD4v1qMAq...</td>\n",
       "    </tr>\n",
       "    <tr>\n",
       "      <th>2</th>\n",
       "      <td>YouTube</td>\n",
       "      <td>ดู LIVE - DayZ #2 - วิบากกรรมหาเพื่อนภาค2</td>\n",
       "      <td>https://www.youtube.com/watch?v=eosGmTJZZZ8</td>\n",
       "      <td>[{'name': 'HEARTROCKER', 'url': 'https://www.y...</td>\n",
       "      <td>2020-12-27T13:22:10.693Z</td>\n",
       "      <td>[YouTube]</td>\n",
       "      <td>NaN</td>\n",
       "      <td>HEARTROCKER</td>\n",
       "      <td>https://www.youtube.com/channel/UC4plRabXFGdAE...</td>\n",
       "    </tr>\n",
       "    <tr>\n",
       "      <th>3</th>\n",
       "      <td>YouTube</td>\n",
       "      <td>ดู esport ในร่างกฏหมายและความชิบหายของงานวิจัย</td>\n",
       "      <td>https://www.youtube.com/watch?v=t1ZpJzlH6QE</td>\n",
       "      <td>[{'name': '9arm', 'url': 'https://www.youtube....</td>\n",
       "      <td>2020-12-27T13:15:59.318Z</td>\n",
       "      <td>[YouTube]</td>\n",
       "      <td>NaN</td>\n",
       "      <td>9arm</td>\n",
       "      <td>https://www.youtube.com/channel/UCoiEtD4v1qMAq...</td>\n",
       "    </tr>\n",
       "    <tr>\n",
       "      <th>4</th>\n",
       "      <td>YouTube</td>\n",
       "      <td>ดู ปืนคู่หูหมีดูสูสีหูหมีหูหมู - FreeFire สไตล...</td>\n",
       "      <td>https://www.youtube.com/watch?v=CNo1z1MScbE</td>\n",
       "      <td>[{'name': 'HEARTROCKER', 'url': 'https://www.y...</td>\n",
       "      <td>2020-12-27T11:09:01.053Z</td>\n",
       "      <td>[YouTube]</td>\n",
       "      <td>NaN</td>\n",
       "      <td>HEARTROCKER</td>\n",
       "      <td>https://www.youtube.com/channel/UC4plRabXFGdAE...</td>\n",
       "    </tr>\n",
       "    <tr>\n",
       "      <th>...</th>\n",
       "      <td>...</td>\n",
       "      <td>...</td>\n",
       "      <td>...</td>\n",
       "      <td>...</td>\n",
       "      <td>...</td>\n",
       "      <td>...</td>\n",
       "      <td>...</td>\n",
       "      <td>...</td>\n",
       "      <td>...</td>\n",
       "    </tr>\n",
       "    <tr>\n",
       "      <th>6561</th>\n",
       "      <td>YouTube</td>\n",
       "      <td>ดู Ma Long vs Koki Niwa | 2019 ITTF China Open...</td>\n",
       "      <td>https://www.youtube.com/watch?v=ioYcyoVQrlk</td>\n",
       "      <td>[{'name': 'Official ITTF Channel', 'url': 'htt...</td>\n",
       "      <td>2019-06-01T05:42:35.663Z</td>\n",
       "      <td>[YouTube]</td>\n",
       "      <td>NaN</td>\n",
       "      <td>Official ITTF Channel</td>\n",
       "      <td>https://www.youtube.com/channel/UC9ckyA_A3MfXU...</td>\n",
       "    </tr>\n",
       "    <tr>\n",
       "      <th>6562</th>\n",
       "      <td>YouTube</td>\n",
       "      <td>ดู Jun Mizutani vs Xu Xin | 2019 ITTF China Op...</td>\n",
       "      <td>https://www.youtube.com/watch?v=rHhl4SDYORQ</td>\n",
       "      <td>[{'name': 'Official ITTF Channel', 'url': 'htt...</td>\n",
       "      <td>2019-06-01T05:42:32.344Z</td>\n",
       "      <td>[YouTube]</td>\n",
       "      <td>NaN</td>\n",
       "      <td>Official ITTF Channel</td>\n",
       "      <td>https://www.youtube.com/channel/UC9ckyA_A3MfXU...</td>\n",
       "    </tr>\n",
       "    <tr>\n",
       "      <th>6563</th>\n",
       "      <td>YouTube</td>\n",
       "      <td>ดู DON'T STARVE BASE - 4,000 DAYS TOUR - SW / ...</td>\n",
       "      <td>https://www.youtube.com/watch?v=msvBVaIWZBU</td>\n",
       "      <td>[{'name': 'Glermz TV', 'url': 'https://www.you...</td>\n",
       "      <td>2019-06-01T05:31:42.138Z</td>\n",
       "      <td>[YouTube]</td>\n",
       "      <td>NaN</td>\n",
       "      <td>Glermz TV</td>\n",
       "      <td>https://www.youtube.com/channel/UC7cUyDEbLaq3h...</td>\n",
       "    </tr>\n",
       "    <tr>\n",
       "      <th>6564</th>\n",
       "      <td>YouTube</td>\n",
       "      <td>ดู Observation : Ep.02 มันคือตัวอะไร ?</td>\n",
       "      <td>https://www.youtube.com/watch?v=3n5LSder4xA</td>\n",
       "      <td>[{'name': 'The Moof', 'url': 'https://www.yout...</td>\n",
       "      <td>2019-06-01T05:10:20.786Z</td>\n",
       "      <td>[YouTube]</td>\n",
       "      <td>NaN</td>\n",
       "      <td>The Moof</td>\n",
       "      <td>https://www.youtube.com/channel/UC9b9KpewX_rIZ...</td>\n",
       "    </tr>\n",
       "    <tr>\n",
       "      <th>6565</th>\n",
       "      <td>YouTube</td>\n",
       "      <td>ดู Dark Souls II SotFS ทั้งชุดนอน : 00 l เราต่...</td>\n",
       "      <td>https://www.youtube.com/watch?v=WrfsKwYZRc4</td>\n",
       "      <td>[{'name': 'ชุดนอน ขอรบกวนทั้งชุดนอน', 'url': '...</td>\n",
       "      <td>2019-06-01T04:04:49.759Z</td>\n",
       "      <td>[YouTube]</td>\n",
       "      <td>NaN</td>\n",
       "      <td>ชุดนอน ขอรบกวนทั้งชุดนอน</td>\n",
       "      <td>https://www.youtube.com/channel/UCeb92QzSg2YfX...</td>\n",
       "    </tr>\n",
       "  </tbody>\n",
       "</table>\n",
       "<p>6566 rows × 9 columns</p>\n",
       "</div>"
      ],
      "text/plain": [
       "       header                                              title  \\\n",
       "0     YouTube    ดู Hiroyuki Sawano / Project【emU】「Inferno＜×PT＞」   \n",
       "1     YouTube            ดู เรียน Game Design กับ Genshin Impact   \n",
       "2     YouTube          ดู LIVE - DayZ #2 - วิบากกรรมหาเพื่อนภาค2   \n",
       "3     YouTube     ดู esport ในร่างกฏหมายและความชิบหายของงานวิจัย   \n",
       "4     YouTube  ดู ปืนคู่หูหมีดูสูสีหูหมีหูหมู - FreeFire สไตล...   \n",
       "...       ...                                                ...   \n",
       "6561  YouTube  ดู Ma Long vs Koki Niwa | 2019 ITTF China Open...   \n",
       "6562  YouTube  ดู Jun Mizutani vs Xu Xin | 2019 ITTF China Op...   \n",
       "6563  YouTube  ดู DON'T STARVE BASE - 4,000 DAYS TOUR - SW / ...   \n",
       "6564  YouTube             ดู Observation : Ep.02 มันคือตัวอะไร ?   \n",
       "6565  YouTube  ดู Dark Souls II SotFS ทั้งชุดนอน : 00 l เราต่...   \n",
       "\n",
       "                                         titleUrl  \\\n",
       "0     https://www.youtube.com/watch?v=c49zedQ1eNM   \n",
       "1     https://www.youtube.com/watch?v=3zIpwQQdBmY   \n",
       "2     https://www.youtube.com/watch?v=eosGmTJZZZ8   \n",
       "3     https://www.youtube.com/watch?v=t1ZpJzlH6QE   \n",
       "4     https://www.youtube.com/watch?v=CNo1z1MScbE   \n",
       "...                                           ...   \n",
       "6561  https://www.youtube.com/watch?v=ioYcyoVQrlk   \n",
       "6562  https://www.youtube.com/watch?v=rHhl4SDYORQ   \n",
       "6563  https://www.youtube.com/watch?v=msvBVaIWZBU   \n",
       "6564  https://www.youtube.com/watch?v=3n5LSder4xA   \n",
       "6565  https://www.youtube.com/watch?v=WrfsKwYZRc4   \n",
       "\n",
       "                                              subtitles  \\\n",
       "0     [{'name': '澤野弘之 / SawanoHiroyuki[nZk]', 'url':...   \n",
       "1     [{'name': '9arm', 'url': 'https://www.youtube....   \n",
       "2     [{'name': 'HEARTROCKER', 'url': 'https://www.y...   \n",
       "3     [{'name': '9arm', 'url': 'https://www.youtube....   \n",
       "4     [{'name': 'HEARTROCKER', 'url': 'https://www.y...   \n",
       "...                                                 ...   \n",
       "6561  [{'name': 'Official ITTF Channel', 'url': 'htt...   \n",
       "6562  [{'name': 'Official ITTF Channel', 'url': 'htt...   \n",
       "6563  [{'name': 'Glermz TV', 'url': 'https://www.you...   \n",
       "6564  [{'name': 'The Moof', 'url': 'https://www.yout...   \n",
       "6565  [{'name': 'ชุดนอน ขอรบกวนทั้งชุดนอน', 'url': '...   \n",
       "\n",
       "                          time   products description  \\\n",
       "0     2020-12-28T13:57:19.737Z  [YouTube]         NaN   \n",
       "1     2020-12-27T13:26:49.854Z  [YouTube]         NaN   \n",
       "2     2020-12-27T13:22:10.693Z  [YouTube]         NaN   \n",
       "3     2020-12-27T13:15:59.318Z  [YouTube]         NaN   \n",
       "4     2020-12-27T11:09:01.053Z  [YouTube]         NaN   \n",
       "...                        ...        ...         ...   \n",
       "6561  2019-06-01T05:42:35.663Z  [YouTube]         NaN   \n",
       "6562  2019-06-01T05:42:32.344Z  [YouTube]         NaN   \n",
       "6563  2019-06-01T05:31:42.138Z  [YouTube]         NaN   \n",
       "6564  2019-06-01T05:10:20.786Z  [YouTube]         NaN   \n",
       "6565  2019-06-01T04:04:49.759Z  [YouTube]         NaN   \n",
       "\n",
       "                     channelName  \\\n",
       "0     澤野弘之 / SawanoHiroyuki[nZk]   \n",
       "1                           9arm   \n",
       "2                    HEARTROCKER   \n",
       "3                           9arm   \n",
       "4                    HEARTROCKER   \n",
       "...                          ...   \n",
       "6561       Official ITTF Channel   \n",
       "6562       Official ITTF Channel   \n",
       "6563                   Glermz TV   \n",
       "6564                    The Moof   \n",
       "6565    ชุดนอน ขอรบกวนทั้งชุดนอน   \n",
       "\n",
       "                                             channelUrl  \n",
       "0     https://www.youtube.com/channel/UCpT4syVopfBl2...  \n",
       "1     https://www.youtube.com/channel/UCoiEtD4v1qMAq...  \n",
       "2     https://www.youtube.com/channel/UC4plRabXFGdAE...  \n",
       "3     https://www.youtube.com/channel/UCoiEtD4v1qMAq...  \n",
       "4     https://www.youtube.com/channel/UC4plRabXFGdAE...  \n",
       "...                                                 ...  \n",
       "6561  https://www.youtube.com/channel/UC9ckyA_A3MfXU...  \n",
       "6562  https://www.youtube.com/channel/UC9ckyA_A3MfXU...  \n",
       "6563  https://www.youtube.com/channel/UC7cUyDEbLaq3h...  \n",
       "6564  https://www.youtube.com/channel/UC9b9KpewX_rIZ...  \n",
       "6565  https://www.youtube.com/channel/UCeb92QzSg2YfX...  \n",
       "\n",
       "[6566 rows x 9 columns]"
      ]
     },
     "execution_count": 19,
     "metadata": {},
     "output_type": "execute_result"
    }
   ],
   "source": [
    "df"
   ]
  },
  {
   "cell_type": "code",
   "execution_count": 20,
   "metadata": {
    "execution": {
     "iopub.execute_input": "2020-12-29T16:07:20.345699Z",
     "iopub.status.busy": "2020-12-29T16:07:20.345699Z",
     "iopub.status.idle": "2020-12-29T16:07:20.441722Z",
     "shell.execute_reply": "2020-12-29T16:07:20.440721Z",
     "shell.execute_reply.started": "2020-12-29T16:07:20.345699Z"
    }
   },
   "outputs": [],
   "source": [
    "df.to_csv(\"./data/watch_histories_clean_channel.csv\", index=False)"
   ]
  },
  {
   "cell_type": "markdown",
   "metadata": {},
   "source": [
    "## Preprocess for Url Problem"
   ]
  },
  {
   "cell_type": "code",
   "execution_count": 21,
   "metadata": {
    "execution": {
     "iopub.execute_input": "2020-12-29T16:07:20.442722Z",
     "iopub.status.busy": "2020-12-29T16:07:20.442722Z",
     "iopub.status.idle": "2020-12-29T16:07:20.455725Z",
     "shell.execute_reply": "2020-12-29T16:07:20.455725Z",
     "shell.execute_reply.started": "2020-12-29T16:07:20.442722Z"
    }
   },
   "outputs": [],
   "source": [
    "regex_pattern = r\"(ดู\\shttp*)\"\n",
    "\n",
    "url_df = df[(df['title'].str.match(regex_pattern))]"
   ]
  },
  {
   "cell_type": "code",
   "execution_count": 22,
   "metadata": {
    "execution": {
     "iopub.execute_input": "2020-12-29T16:07:20.456725Z",
     "iopub.status.busy": "2020-12-29T16:07:20.456725Z",
     "iopub.status.idle": "2020-12-29T16:07:20.487733Z",
     "shell.execute_reply": "2020-12-29T16:07:20.486734Z",
     "shell.execute_reply.started": "2020-12-29T16:07:20.456725Z"
    }
   },
   "outputs": [
    {
     "data": {
      "text/html": [
       "<div>\n",
       "<style scoped>\n",
       "    .dataframe tbody tr th:only-of-type {\n",
       "        vertical-align: middle;\n",
       "    }\n",
       "\n",
       "    .dataframe tbody tr th {\n",
       "        vertical-align: top;\n",
       "    }\n",
       "\n",
       "    .dataframe thead th {\n",
       "        text-align: right;\n",
       "    }\n",
       "</style>\n",
       "<table border=\"1\" class=\"dataframe\">\n",
       "  <thead>\n",
       "    <tr style=\"text-align: right;\">\n",
       "      <th></th>\n",
       "      <th>header</th>\n",
       "      <th>title</th>\n",
       "      <th>titleUrl</th>\n",
       "      <th>subtitles</th>\n",
       "      <th>time</th>\n",
       "      <th>products</th>\n",
       "      <th>description</th>\n",
       "      <th>channelName</th>\n",
       "      <th>channelUrl</th>\n",
       "    </tr>\n",
       "  </thead>\n",
       "  <tbody>\n",
       "    <tr>\n",
       "      <th>99</th>\n",
       "      <td>YouTube</td>\n",
       "      <td>ดู https://www.youtube.com/watch?v=qmxqc5hcEXY</td>\n",
       "      <td>https://www.youtube.com/watch?v=qmxqc5hcEXY</td>\n",
       "      <td>NaN</td>\n",
       "      <td>2020-12-19T15:46:47.829Z</td>\n",
       "      <td>[YouTube]</td>\n",
       "      <td>NaN</td>\n",
       "      <td>NaN</td>\n",
       "      <td>NaN</td>\n",
       "    </tr>\n",
       "    <tr>\n",
       "      <th>101</th>\n",
       "      <td>YouTube</td>\n",
       "      <td>ดู https://www.youtube.com/watch?v=ALajnmT-2Gk</td>\n",
       "      <td>https://www.youtube.com/watch?v=ALajnmT-2Gk</td>\n",
       "      <td>NaN</td>\n",
       "      <td>2020-12-19T15:32:32.063Z</td>\n",
       "      <td>[YouTube]</td>\n",
       "      <td>NaN</td>\n",
       "      <td>NaN</td>\n",
       "      <td>NaN</td>\n",
       "    </tr>\n",
       "    <tr>\n",
       "      <th>102</th>\n",
       "      <td>YouTube</td>\n",
       "      <td>ดู https://www.youtube.com/watch?v=6OB8cgV7zMk</td>\n",
       "      <td>https://www.youtube.com/watch?v=6OB8cgV7zMk</td>\n",
       "      <td>NaN</td>\n",
       "      <td>2020-12-19T15:27:51.963Z</td>\n",
       "      <td>[YouTube]</td>\n",
       "      <td>NaN</td>\n",
       "      <td>NaN</td>\n",
       "      <td>NaN</td>\n",
       "    </tr>\n",
       "    <tr>\n",
       "      <th>103</th>\n",
       "      <td>YouTube</td>\n",
       "      <td>ดู https://www.youtube.com/watch?v=q0Xg1emBzI8</td>\n",
       "      <td>https://www.youtube.com/watch?v=q0Xg1emBzI8</td>\n",
       "      <td>NaN</td>\n",
       "      <td>2020-12-19T15:22:16.238Z</td>\n",
       "      <td>[YouTube]</td>\n",
       "      <td>NaN</td>\n",
       "      <td>NaN</td>\n",
       "      <td>NaN</td>\n",
       "    </tr>\n",
       "    <tr>\n",
       "      <th>104</th>\n",
       "      <td>YouTube</td>\n",
       "      <td>ดู https://www.youtube.com/watch?v=yqsJ-3F8xgI</td>\n",
       "      <td>https://www.youtube.com/watch?v=yqsJ-3F8xgI</td>\n",
       "      <td>NaN</td>\n",
       "      <td>2020-12-19T01:31:18.992Z</td>\n",
       "      <td>[YouTube]</td>\n",
       "      <td>NaN</td>\n",
       "      <td>NaN</td>\n",
       "      <td>NaN</td>\n",
       "    </tr>\n",
       "    <tr>\n",
       "      <th>...</th>\n",
       "      <td>...</td>\n",
       "      <td>...</td>\n",
       "      <td>...</td>\n",
       "      <td>...</td>\n",
       "      <td>...</td>\n",
       "      <td>...</td>\n",
       "      <td>...</td>\n",
       "      <td>...</td>\n",
       "      <td>...</td>\n",
       "    </tr>\n",
       "    <tr>\n",
       "      <th>6474</th>\n",
       "      <td>YouTube</td>\n",
       "      <td>ดู https://www.youtube.com/watch?v=3fSteeYCIzw</td>\n",
       "      <td>https://www.youtube.com/watch?v=3fSteeYCIzw</td>\n",
       "      <td>NaN</td>\n",
       "      <td>2019-06-11T17:33:41.322Z</td>\n",
       "      <td>[YouTube]</td>\n",
       "      <td>NaN</td>\n",
       "      <td>NaN</td>\n",
       "      <td>NaN</td>\n",
       "    </tr>\n",
       "    <tr>\n",
       "      <th>6484</th>\n",
       "      <td>YouTube</td>\n",
       "      <td>ดู https://www.youtube.com/watch?v=oxe71mD-m34</td>\n",
       "      <td>https://www.youtube.com/watch?v=oxe71mD-m34</td>\n",
       "      <td>NaN</td>\n",
       "      <td>2019-06-09T15:25:27.625Z</td>\n",
       "      <td>[YouTube]</td>\n",
       "      <td>NaN</td>\n",
       "      <td>NaN</td>\n",
       "      <td>NaN</td>\n",
       "    </tr>\n",
       "    <tr>\n",
       "      <th>6497</th>\n",
       "      <td>YouTube</td>\n",
       "      <td>ดู https://www.youtube.com/watch?v=pmTA5o044Yc</td>\n",
       "      <td>https://www.youtube.com/watch?v=pmTA5o044Yc</td>\n",
       "      <td>NaN</td>\n",
       "      <td>2019-06-09T00:51:34.547Z</td>\n",
       "      <td>[YouTube]</td>\n",
       "      <td>NaN</td>\n",
       "      <td>NaN</td>\n",
       "      <td>NaN</td>\n",
       "    </tr>\n",
       "    <tr>\n",
       "      <th>6516</th>\n",
       "      <td>YouTube</td>\n",
       "      <td>ดู https://www.youtube.com/watch?v=-Hm89oD2oao</td>\n",
       "      <td>https://www.youtube.com/watch?v=-Hm89oD2oao</td>\n",
       "      <td>NaN</td>\n",
       "      <td>2019-06-04T03:42:36.255Z</td>\n",
       "      <td>[YouTube]</td>\n",
       "      <td>NaN</td>\n",
       "      <td>NaN</td>\n",
       "      <td>NaN</td>\n",
       "    </tr>\n",
       "    <tr>\n",
       "      <th>6545</th>\n",
       "      <td>YouTube</td>\n",
       "      <td>ดู https://www.youtube.com/watch?v=kauVaafm5Zo</td>\n",
       "      <td>https://www.youtube.com/watch?v=kauVaafm5Zo</td>\n",
       "      <td>NaN</td>\n",
       "      <td>2019-06-02T04:12:57.419Z</td>\n",
       "      <td>[YouTube]</td>\n",
       "      <td>NaN</td>\n",
       "      <td>NaN</td>\n",
       "      <td>NaN</td>\n",
       "    </tr>\n",
       "  </tbody>\n",
       "</table>\n",
       "<p>1052 rows × 9 columns</p>\n",
       "</div>"
      ],
      "text/plain": [
       "       header                                           title  \\\n",
       "99    YouTube  ดู https://www.youtube.com/watch?v=qmxqc5hcEXY   \n",
       "101   YouTube  ดู https://www.youtube.com/watch?v=ALajnmT-2Gk   \n",
       "102   YouTube  ดู https://www.youtube.com/watch?v=6OB8cgV7zMk   \n",
       "103   YouTube  ดู https://www.youtube.com/watch?v=q0Xg1emBzI8   \n",
       "104   YouTube  ดู https://www.youtube.com/watch?v=yqsJ-3F8xgI   \n",
       "...       ...                                             ...   \n",
       "6474  YouTube  ดู https://www.youtube.com/watch?v=3fSteeYCIzw   \n",
       "6484  YouTube  ดู https://www.youtube.com/watch?v=oxe71mD-m34   \n",
       "6497  YouTube  ดู https://www.youtube.com/watch?v=pmTA5o044Yc   \n",
       "6516  YouTube  ดู https://www.youtube.com/watch?v=-Hm89oD2oao   \n",
       "6545  YouTube  ดู https://www.youtube.com/watch?v=kauVaafm5Zo   \n",
       "\n",
       "                                         titleUrl subtitles  \\\n",
       "99    https://www.youtube.com/watch?v=qmxqc5hcEXY       NaN   \n",
       "101   https://www.youtube.com/watch?v=ALajnmT-2Gk       NaN   \n",
       "102   https://www.youtube.com/watch?v=6OB8cgV7zMk       NaN   \n",
       "103   https://www.youtube.com/watch?v=q0Xg1emBzI8       NaN   \n",
       "104   https://www.youtube.com/watch?v=yqsJ-3F8xgI       NaN   \n",
       "...                                           ...       ...   \n",
       "6474  https://www.youtube.com/watch?v=3fSteeYCIzw       NaN   \n",
       "6484  https://www.youtube.com/watch?v=oxe71mD-m34       NaN   \n",
       "6497  https://www.youtube.com/watch?v=pmTA5o044Yc       NaN   \n",
       "6516  https://www.youtube.com/watch?v=-Hm89oD2oao       NaN   \n",
       "6545  https://www.youtube.com/watch?v=kauVaafm5Zo       NaN   \n",
       "\n",
       "                          time   products description channelName channelUrl  \n",
       "99    2020-12-19T15:46:47.829Z  [YouTube]         NaN         NaN        NaN  \n",
       "101   2020-12-19T15:32:32.063Z  [YouTube]         NaN         NaN        NaN  \n",
       "102   2020-12-19T15:27:51.963Z  [YouTube]         NaN         NaN        NaN  \n",
       "103   2020-12-19T15:22:16.238Z  [YouTube]         NaN         NaN        NaN  \n",
       "104   2020-12-19T01:31:18.992Z  [YouTube]         NaN         NaN        NaN  \n",
       "...                        ...        ...         ...         ...        ...  \n",
       "6474  2019-06-11T17:33:41.322Z  [YouTube]         NaN         NaN        NaN  \n",
       "6484  2019-06-09T15:25:27.625Z  [YouTube]         NaN         NaN        NaN  \n",
       "6497  2019-06-09T00:51:34.547Z  [YouTube]         NaN         NaN        NaN  \n",
       "6516  2019-06-04T03:42:36.255Z  [YouTube]         NaN         NaN        NaN  \n",
       "6545  2019-06-02T04:12:57.419Z  [YouTube]         NaN         NaN        NaN  \n",
       "\n",
       "[1052 rows x 9 columns]"
      ]
     },
     "execution_count": 22,
     "metadata": {},
     "output_type": "execute_result"
    }
   ],
   "source": [
    "url_df"
   ]
  },
  {
   "cell_type": "code",
   "execution_count": 23,
   "metadata": {
    "execution": {
     "iopub.execute_input": "2020-12-29T16:07:20.489734Z",
     "iopub.status.busy": "2020-12-29T16:07:20.488734Z",
     "iopub.status.idle": "2020-12-29T16:07:20.503736Z",
     "shell.execute_reply": "2020-12-29T16:07:20.502735Z",
     "shell.execute_reply.started": "2020-12-29T16:07:20.489734Z"
    }
   },
   "outputs": [
    {
     "data": {
      "text/plain": [
       "title\n",
       "ดู https://www.youtube.com/watch?v=50hF9MGFeMA    25\n",
       "ดู https://www.youtube.com/watch?v=nG3NEjL6uCM    20\n",
       "ดู https://www.youtube.com/watch?v=RtigsfEfHkQ    19\n",
       "ดู https://www.youtube.com/watch?v=ekbALabBkEA    19\n",
       "ดู https://www.youtube.com/watch?v=cxJFLjOGHzY    18\n",
       "ดู https://www.youtube.com/watch?v=pH5igxkPSQE    14\n",
       "ดู https://www.youtube.com/watch?v=pruPGs3QZng    11\n",
       "ดู https://www.youtube.com/watch?v=gky7ZEtmYWs    10\n",
       "ดู https://www.youtube.com/watch?v=zEoTPBTDAMo     9\n",
       "ดู https://www.youtube.com/watch?v=L_J2_SvEX90     9\n",
       "ดู https://www.youtube.com/watch?v=BFcf8XUQknE     8\n",
       "ดู https://www.youtube.com/watch?v=-OaBgDIS8E4     8\n",
       "ดู https://www.youtube.com/watch?v=WtS5LI-Vjbw     7\n",
       "ดู https://www.youtube.com/watch?v=ZgMYhi6-iSI     7\n",
       "ดู https://www.youtube.com/watch?v=qmxqc5hcEXY     7\n",
       "ดู https://www.youtube.com/watch?v=W7GAcyPx_B8     7\n",
       "ดู https://www.youtube.com/watch?v=vL7nL8cr8jQ     7\n",
       "ดู https://www.youtube.com/watch?v=ibq9m3CM9kI     7\n",
       "ดู https://www.youtube.com/watch?v=AG6N-5eelWY     7\n",
       "ดู https://www.youtube.com/watch?v=yCgpL7wDDds     7\n",
       "dtype: int64"
      ]
     },
     "execution_count": 23,
     "metadata": {},
     "output_type": "execute_result"
    }
   ],
   "source": [
    "url_df.value_counts('title')[:20]"
   ]
  },
  {
   "cell_type": "markdown",
   "metadata": {},
   "source": [
    "> จะทิ้งข้อมูลไป มันก็น่าเสียดาย\n",
    "\n",
    "- `nG3NEjL6uCM` เมื่อลองไปหาใน google `SawanoHiroyuki[nZk]:Laco - βios (LIVE) [-30k]re:tuneS`"
   ]
  },
  {
   "cell_type": "markdown",
   "metadata": {},
   "source": [
    "## Youtube API\n",
    "\n",
    "เตรียมข้อมูลสำหรับ api\n",
    "\n",
    "https://developers.google.com/youtube/v3/docs/videos/list?apix=true"
   ]
  },
  {
   "cell_type": "code",
   "execution_count": 46,
   "metadata": {
    "execution": {
     "iopub.execute_input": "2020-12-29T16:12:31.224566Z",
     "iopub.status.busy": "2020-12-29T16:12:31.224566Z",
     "iopub.status.idle": "2020-12-29T16:12:31.244562Z",
     "shell.execute_reply": "2020-12-29T16:12:31.244562Z",
     "shell.execute_reply.started": "2020-12-29T16:12:31.224566Z"
    }
   },
   "outputs": [
    {
     "data": {
      "text/plain": [
       "0       https://www.youtube.com/watch?v=c49zedQ1eNM\n",
       "1       https://www.youtube.com/watch?v=3zIpwQQdBmY\n",
       "2       https://www.youtube.com/watch?v=eosGmTJZZZ8\n",
       "3       https://www.youtube.com/watch?v=t1ZpJzlH6QE\n",
       "4       https://www.youtube.com/watch?v=CNo1z1MScbE\n",
       "                           ...                     \n",
       "6561    https://www.youtube.com/watch?v=ioYcyoVQrlk\n",
       "6562    https://www.youtube.com/watch?v=rHhl4SDYORQ\n",
       "6563    https://www.youtube.com/watch?v=msvBVaIWZBU\n",
       "6564    https://www.youtube.com/watch?v=3n5LSder4xA\n",
       "6565    https://www.youtube.com/watch?v=WrfsKwYZRc4\n",
       "Name: titleUrl, Length: 6566, dtype: object"
      ]
     },
     "execution_count": 46,
     "metadata": {},
     "output_type": "execute_result"
    }
   ],
   "source": [
    "df['titleUrl']"
   ]
  },
  {
   "cell_type": "code",
   "execution_count": null,
   "metadata": {},
   "outputs": [],
   "source": []
  }
 ],
 "metadata": {
  "kernelspec": {
   "display_name": "Python 3",
   "language": "python",
   "name": "python3"
  },
  "language_info": {
   "codemirror_mode": {
    "name": "ipython",
    "version": 3
   },
   "file_extension": ".py",
   "mimetype": "text/x-python",
   "name": "python",
   "nbconvert_exporter": "python",
   "pygments_lexer": "ipython3",
   "version": "3.8.3"
  }
 },
 "nbformat": 4,
 "nbformat_minor": 4
}
