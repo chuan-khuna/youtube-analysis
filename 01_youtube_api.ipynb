{
 "cells": [
  {
   "cell_type": "code",
   "execution_count": 1,
   "metadata": {
    "execution": {
     "iopub.execute_input": "2020-12-30T05:39:17.263606Z",
     "iopub.status.busy": "2020-12-30T05:39:17.263606Z",
     "iopub.status.idle": "2020-12-30T05:39:17.729028Z",
     "shell.execute_reply": "2020-12-30T05:39:17.729028Z",
     "shell.execute_reply.started": "2020-12-30T05:39:17.263606Z"
    }
   },
   "outputs": [],
   "source": [
    "import json\n",
    "import pandas as pd\n",
    "import numpy as np\n",
    "import os\n",
    "import re\n",
    "import requests"
   ]
  },
  {
   "cell_type": "markdown",
   "metadata": {},
   "source": [
    "# Load Data"
   ]
  },
  {
   "cell_type": "code",
   "execution_count": 2,
   "metadata": {
    "execution": {
     "iopub.execute_input": "2020-12-30T05:39:17.731953Z",
     "iopub.status.busy": "2020-12-30T05:39:17.730957Z",
     "iopub.status.idle": "2020-12-30T05:39:17.776893Z",
     "shell.execute_reply": "2020-12-30T05:39:17.776893Z",
     "shell.execute_reply.started": "2020-12-30T05:39:17.731953Z"
    }
   },
   "outputs": [],
   "source": [
    "df = pd.read_csv(\"./data/cleaned/watch_histories_clean.csv\")"
   ]
  },
  {
   "cell_type": "code",
   "execution_count": 3,
   "metadata": {
    "execution": {
     "iopub.execute_input": "2020-12-30T05:39:17.778828Z",
     "iopub.status.busy": "2020-12-30T05:39:17.778828Z",
     "iopub.status.idle": "2020-12-30T05:39:17.809745Z",
     "shell.execute_reply": "2020-12-30T05:39:17.808748Z",
     "shell.execute_reply.started": "2020-12-30T05:39:17.778828Z"
    }
   },
   "outputs": [
    {
     "data": {
      "text/html": [
       "<div>\n",
       "<style scoped>\n",
       "    .dataframe tbody tr th:only-of-type {\n",
       "        vertical-align: middle;\n",
       "    }\n",
       "\n",
       "    .dataframe tbody tr th {\n",
       "        vertical-align: top;\n",
       "    }\n",
       "\n",
       "    .dataframe thead th {\n",
       "        text-align: right;\n",
       "    }\n",
       "</style>\n",
       "<table border=\"1\" class=\"dataframe\">\n",
       "  <thead>\n",
       "    <tr style=\"text-align: right;\">\n",
       "      <th></th>\n",
       "      <th>title</th>\n",
       "      <th>titleUrl</th>\n",
       "      <th>time</th>\n",
       "      <th>channelName</th>\n",
       "      <th>channelUrl</th>\n",
       "    </tr>\n",
       "  </thead>\n",
       "  <tbody>\n",
       "    <tr>\n",
       "      <th>0</th>\n",
       "      <td>Hiroyuki Sawano / Project【emU】「Inferno＜×PT＞」</td>\n",
       "      <td>https://www.youtube.com/watch?v=c49zedQ1eNM</td>\n",
       "      <td>2020-12-28T13:57:19.737Z</td>\n",
       "      <td>澤野弘之 / SawanoHiroyuki[nZk]</td>\n",
       "      <td>https://www.youtube.com/channel/UCpT4syVopfBl2...</td>\n",
       "    </tr>\n",
       "    <tr>\n",
       "      <th>1</th>\n",
       "      <td>เรียน Game Design กับ Genshin Impact</td>\n",
       "      <td>https://www.youtube.com/watch?v=3zIpwQQdBmY</td>\n",
       "      <td>2020-12-27T13:26:49.854Z</td>\n",
       "      <td>9arm</td>\n",
       "      <td>https://www.youtube.com/channel/UCoiEtD4v1qMAq...</td>\n",
       "    </tr>\n",
       "    <tr>\n",
       "      <th>2</th>\n",
       "      <td>LIVE - DayZ #2 - วิบากกรรมหาเพื่อนภาค2</td>\n",
       "      <td>https://www.youtube.com/watch?v=eosGmTJZZZ8</td>\n",
       "      <td>2020-12-27T13:22:10.693Z</td>\n",
       "      <td>HEARTROCKER</td>\n",
       "      <td>https://www.youtube.com/channel/UC4plRabXFGdAE...</td>\n",
       "    </tr>\n",
       "    <tr>\n",
       "      <th>3</th>\n",
       "      <td>esport ในร่างกฏหมายและความชิบหายของงานวิจัย</td>\n",
       "      <td>https://www.youtube.com/watch?v=t1ZpJzlH6QE</td>\n",
       "      <td>2020-12-27T13:15:59.318Z</td>\n",
       "      <td>9arm</td>\n",
       "      <td>https://www.youtube.com/channel/UCoiEtD4v1qMAq...</td>\n",
       "    </tr>\n",
       "    <tr>\n",
       "      <th>4</th>\n",
       "      <td>ปืนคู่หูหมีดูสูสีหูหมีหูหมู - FreeFire สไตล์โบ...</td>\n",
       "      <td>https://www.youtube.com/watch?v=CNo1z1MScbE</td>\n",
       "      <td>2020-12-27T11:09:01.053Z</td>\n",
       "      <td>HEARTROCKER</td>\n",
       "      <td>https://www.youtube.com/channel/UC4plRabXFGdAE...</td>\n",
       "    </tr>\n",
       "  </tbody>\n",
       "</table>\n",
       "</div>"
      ],
      "text/plain": [
       "                                               title  \\\n",
       "0       Hiroyuki Sawano / Project【emU】「Inferno＜×PT＞」   \n",
       "1               เรียน Game Design กับ Genshin Impact   \n",
       "2             LIVE - DayZ #2 - วิบากกรรมหาเพื่อนภาค2   \n",
       "3        esport ในร่างกฏหมายและความชิบหายของงานวิจัย   \n",
       "4  ปืนคู่หูหมีดูสูสีหูหมีหูหมู - FreeFire สไตล์โบ...   \n",
       "\n",
       "                                      titleUrl                      time  \\\n",
       "0  https://www.youtube.com/watch?v=c49zedQ1eNM  2020-12-28T13:57:19.737Z   \n",
       "1  https://www.youtube.com/watch?v=3zIpwQQdBmY  2020-12-27T13:26:49.854Z   \n",
       "2  https://www.youtube.com/watch?v=eosGmTJZZZ8  2020-12-27T13:22:10.693Z   \n",
       "3  https://www.youtube.com/watch?v=t1ZpJzlH6QE  2020-12-27T13:15:59.318Z   \n",
       "4  https://www.youtube.com/watch?v=CNo1z1MScbE  2020-12-27T11:09:01.053Z   \n",
       "\n",
       "                  channelName  \\\n",
       "0  澤野弘之 / SawanoHiroyuki[nZk]   \n",
       "1                        9arm   \n",
       "2                 HEARTROCKER   \n",
       "3                        9arm   \n",
       "4                 HEARTROCKER   \n",
       "\n",
       "                                          channelUrl  \n",
       "0  https://www.youtube.com/channel/UCpT4syVopfBl2...  \n",
       "1  https://www.youtube.com/channel/UCoiEtD4v1qMAq...  \n",
       "2  https://www.youtube.com/channel/UC4plRabXFGdAE...  \n",
       "3  https://www.youtube.com/channel/UCoiEtD4v1qMAq...  \n",
       "4  https://www.youtube.com/channel/UC4plRabXFGdAE...  "
      ]
     },
     "execution_count": 3,
     "metadata": {},
     "output_type": "execute_result"
    }
   ],
   "source": [
    "df.head()"
   ]
  },
  {
   "cell_type": "markdown",
   "metadata": {},
   "source": [
    "## Youtube API\n",
    "\n",
    "เตรียมข้อมูลสำหรับ api\n",
    "\n",
    "https://developers.google.com/youtube/v3/docs/videos/list?apix=true"
   ]
  },
  {
   "cell_type": "code",
   "execution_count": 4,
   "metadata": {
    "execution": {
     "iopub.execute_input": "2020-12-30T05:39:17.811740Z",
     "iopub.status.busy": "2020-12-30T05:39:17.811740Z",
     "iopub.status.idle": "2020-12-30T05:39:17.820717Z",
     "shell.execute_reply": "2020-12-30T05:39:17.819719Z",
     "shell.execute_reply.started": "2020-12-30T05:39:17.811740Z"
    }
   },
   "outputs": [],
   "source": [
    "def yt_api_video_info(video_id, api_key):\n",
    "    return requests.get(f\"https://youtube.googleapis.com/youtube/v3/videos?part=snippet%2CcontentDetails%2Cstatistics&id={video_id}&key={api_key}\").json()"
   ]
  },
  {
   "cell_type": "code",
   "execution_count": 5,
   "metadata": {
    "execution": {
     "iopub.execute_input": "2020-12-30T05:39:17.823708Z",
     "iopub.status.busy": "2020-12-30T05:39:17.822710Z",
     "iopub.status.idle": "2020-12-30T05:39:17.829691Z",
     "shell.execute_reply": "2020-12-30T05:39:17.828694Z",
     "shell.execute_reply.started": "2020-12-30T05:39:17.823708Z"
    }
   },
   "outputs": [],
   "source": [
    "with open(\"./temp/api_key.txt\", \"r\", encoding=\"utf-8\") as f:\n",
    "    api_key = f.read()"
   ]
  },
  {
   "cell_type": "code",
   "execution_count": 6,
   "metadata": {
    "execution": {
     "iopub.execute_input": "2020-12-30T05:39:17.833681Z",
     "iopub.status.busy": "2020-12-30T05:39:17.832692Z",
     "iopub.status.idle": "2020-12-30T05:51:44.554640Z",
     "shell.execute_reply": "2020-12-30T05:51:44.554640Z",
     "shell.execute_reply.started": "2020-12-30T05:39:17.833681Z"
    }
   },
   "outputs": [],
   "source": [
    "video_details = []\n",
    "\n",
    "for url in df['titleUrl'].drop_duplicates():\n",
    "    video_id = url.split('=')[-1]\n",
    "    res = yt_api_video_info(video_id, api_key)\n",
    "    video_details.append(res)"
   ]
  },
  {
   "cell_type": "code",
   "execution_count": 7,
   "metadata": {
    "execution": {
     "iopub.execute_input": "2020-12-30T05:51:44.556635Z",
     "iopub.status.busy": "2020-12-30T05:51:44.556635Z",
     "iopub.status.idle": "2020-12-30T05:51:45.179970Z",
     "shell.execute_reply": "2020-12-30T05:51:45.178971Z",
     "shell.execute_reply.started": "2020-12-30T05:51:44.556635Z"
    }
   },
   "outputs": [],
   "source": [
    "with open(\"./data/videos_detail.json\", \"w\", encoding=\"utf-8\") as f:\n",
    "    json.dump(video_details, f)"
   ]
  }
 ],
 "metadata": {
  "kernelspec": {
   "display_name": "Python 3",
   "language": "python",
   "name": "python3"
  },
  "language_info": {
   "codemirror_mode": {
    "name": "ipython",
    "version": 3
   },
   "file_extension": ".py",
   "mimetype": "text/x-python",
   "name": "python",
   "nbconvert_exporter": "python",
   "pygments_lexer": "ipython3",
   "version": "3.8.5"
  }
 },
 "nbformat": 4,
 "nbformat_minor": 4
}
