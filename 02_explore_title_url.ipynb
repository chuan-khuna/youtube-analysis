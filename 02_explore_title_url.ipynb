{
 "cells": [
  {
   "cell_type": "code",
   "execution_count": 1,
   "metadata": {
    "execution": {
     "iopub.execute_input": "2020-12-30T15:25:19.875387Z",
     "iopub.status.busy": "2020-12-30T15:25:19.874386Z",
     "iopub.status.idle": "2020-12-30T15:25:20.300251Z",
     "shell.execute_reply": "2020-12-30T15:25:20.300251Z",
     "shell.execute_reply.started": "2020-12-30T15:25:19.875387Z"
    }
   },
   "outputs": [],
   "source": [
    "import json\n",
    "import pandas as pd\n",
    "import numpy as np\n",
    "import os\n",
    "import re\n",
    "import requests\n",
    "import json"
   ]
  },
  {
   "cell_type": "markdown",
   "metadata": {},
   "source": [
    "# Load Data"
   ]
  },
  {
   "cell_type": "code",
   "execution_count": 2,
   "metadata": {
    "execution": {
     "iopub.execute_input": "2020-12-30T15:25:20.302243Z",
     "iopub.status.busy": "2020-12-30T15:25:20.302243Z",
     "iopub.status.idle": "2020-12-30T15:25:20.331258Z",
     "shell.execute_reply": "2020-12-30T15:25:20.331258Z",
     "shell.execute_reply.started": "2020-12-30T15:25:20.302243Z"
    }
   },
   "outputs": [],
   "source": [
    "df = pd.read_csv(\"./data/cleaned/watch_histories_clean.csv\")"
   ]
  },
  {
   "cell_type": "code",
   "execution_count": 3,
   "metadata": {
    "execution": {
     "iopub.execute_input": "2020-12-30T15:25:20.333249Z",
     "iopub.status.busy": "2020-12-30T15:25:20.332249Z",
     "iopub.status.idle": "2020-12-30T15:25:20.551384Z",
     "shell.execute_reply": "2020-12-30T15:25:20.551384Z",
     "shell.execute_reply.started": "2020-12-30T15:25:20.333249Z"
    }
   },
   "outputs": [],
   "source": [
    "with open(\"./data/videos_detail.json\", \"r\", encoding=\"utf-8\") as f:\n",
    "    json_data = json.load(f)"
   ]
  },
  {
   "cell_type": "code",
   "execution_count": 4,
   "metadata": {
    "execution": {
     "iopub.execute_input": "2020-12-30T15:25:20.552394Z",
     "iopub.status.busy": "2020-12-30T15:25:20.552394Z",
     "iopub.status.idle": "2020-12-30T15:25:20.568224Z",
     "shell.execute_reply": "2020-12-30T15:25:20.567225Z",
     "shell.execute_reply.started": "2020-12-30T15:25:20.552394Z"
    }
   },
   "outputs": [],
   "source": [
    "video_info_json = []\n",
    "for data in json_data:\n",
    "    if len(data['items']) > 0:\n",
    "        info = data['items'][0]['snippet']\n",
    "        info['id'] = data['items'][0]['id']\n",
    "        video_info_json.append(info)"
   ]
  },
  {
   "cell_type": "code",
   "execution_count": 5,
   "metadata": {
    "execution": {
     "iopub.execute_input": "2020-12-30T15:25:34.142812Z",
     "iopub.status.busy": "2020-12-30T15:25:34.142812Z",
     "iopub.status.idle": "2020-12-30T15:25:34.170711Z",
     "shell.execute_reply": "2020-12-30T15:25:34.170711Z",
     "shell.execute_reply.started": "2020-12-30T15:25:34.142812Z"
    }
   },
   "outputs": [],
   "source": [
    "video_info = pd.DataFrame(video_info_json)"
   ]
  },
  {
   "cell_type": "code",
   "execution_count": 7,
   "metadata": {
    "execution": {
     "iopub.execute_input": "2020-12-30T15:26:30.070704Z",
     "iopub.status.busy": "2020-12-30T15:26:30.070704Z",
     "iopub.status.idle": "2020-12-30T15:26:30.286780Z",
     "shell.execute_reply": "2020-12-30T15:26:30.286780Z",
     "shell.execute_reply.started": "2020-12-30T15:26:30.070704Z"
    }
   },
   "outputs": [],
   "source": [
    "video_info.to_csv(\"./data/videos_detail.csv\", index=False)"
   ]
  }
 ],
 "metadata": {
  "kernelspec": {
   "display_name": "Python 3",
   "language": "python",
   "name": "python3"
  },
  "language_info": {
   "codemirror_mode": {
    "name": "ipython",
    "version": 3
   },
   "file_extension": ".py",
   "mimetype": "text/x-python",
   "name": "python",
   "nbconvert_exporter": "python",
   "pygments_lexer": "ipython3",
   "version": "3.8.3"
  }
 },
 "nbformat": 4,
 "nbformat_minor": 4
}
